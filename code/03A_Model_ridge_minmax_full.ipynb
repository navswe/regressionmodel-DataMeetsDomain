{
 "cells": [
  {
   "cell_type": "markdown",
   "id": "f251bd6c-f12d-4bb7-a3df-c9ce2d08dc02",
   "metadata": {},
   "source": [
    "# 03 Modelling"
   ]
  },
  {
   "cell_type": "markdown",
   "id": "efe01fee-1076-409f-b251-98a21a839eac",
   "metadata": {},
   "source": [
    "**The objective of this notebook is to generate a linear regression model using selected numeric, ordinal, and nominal features.**"
   ]
  },
  {
   "cell_type": "markdown",
   "id": "6e17eb82-1faa-4cab-b494-17e6b168ea38",
   "metadata": {},
   "source": [
    "## Import Libraries"
   ]
  },
  {
   "cell_type": "code",
   "execution_count": 158,
   "id": "3a120c46-8f18-43b1-b3ba-cad1ab0c753a",
   "metadata": {},
   "outputs": [],
   "source": [
    "import numpy as np\n",
    "import pandas as pd\n",
    "import seaborn as sns\n",
    "import matplotlib.pyplot as plt\n",
    "\n",
    "from sklearn.compose import ColumnTransformer, TransformedTargetRegressor\n",
    "\n",
    "from sklearn.preprocessing import MinMaxScaler, OneHotEncoder, OrdinalEncoder, PolynomialFeatures\n",
    "\n",
    "from sklearn.model_selection import train_test_split, GridSearchCV\n",
    "\n",
    "from sklearn.pipeline import Pipeline\n",
    "\n",
    "from sklearn.linear_model import LinearRegression,  Ridge\n",
    "\n",
    "from sklearn.metrics import mean_squared_error"
   ]
  },
  {
   "cell_type": "code",
   "execution_count": 160,
   "id": "9a54d80d-8782-4e52-880d-c4c6c6164055",
   "metadata": {},
   "outputs": [],
   "source": [
    "# apply a plot style\n",
    "plt.style.use('bmh')"
   ]
  },
  {
   "cell_type": "markdown",
   "id": "ad84f4a4-72b4-42ef-b651-9a920abbdc4c",
   "metadata": {},
   "source": [
    "## Read The Datasets"
   ]
  },
  {
   "cell_type": "code",
   "execution_count": 135,
   "id": "34c0b0b9-63ed-48de-8658-fda2311f20dc",
   "metadata": {},
   "outputs": [],
   "source": [
    "train = pd.read_csv('../datasets/train.csv')\n",
    "test = pd.read_csv('../datasets/test.csv')"
   ]
  },
  {
   "cell_type": "code",
   "execution_count": 141,
   "id": "7201e025-50c7-4461-9f95-a535df706a27",
   "metadata": {},
   "outputs": [
    {
     "name": "stdout",
     "output_type": "stream",
     "text": [
      "(1538, 82)\n",
      "(513, 81)\n"
     ]
    }
   ],
   "source": [
    "print(train.shape)\n",
    "print(test.shape)"
   ]
  },
  {
   "cell_type": "markdown",
   "id": "7a9d4e39-b6f8-479e-a8b0-aaab1ea11101",
   "metadata": {},
   "source": [
    "## Preprocessing Data"
   ]
  },
  {
   "cell_type": "markdown",
   "id": "f0c687af-96bf-46ed-8904-286a620fc9db",
   "metadata": {},
   "source": [
    "- apply preprocessing() to train dataframe to clean the data\n",
    "- trim down the dataframe to only contain selected numeric, nominal, and ordinal features"
   ]
  },
  {
   "cell_type": "code",
   "execution_count": 138,
   "id": "857198dc-c93d-4a0d-861f-8cb37738b52b",
   "metadata": {},
   "outputs": [],
   "source": [
    "def preprocessing(df):\n",
    "    ''' This function takes in a dataframe containing the Ames Housing dataset and preprocess it for regression models.'''\n",
    "\n",
    "    #There are 2 outliers identified in EDA based on scatterplot of 'Gr Liv Area' vs. \"SalePrice\".\n",
    "    #Drop these outliers\n",
    "    drop_rows_GrLivArea_outliers = df[(df['Gr Liv Area'] > 4000)].index\n",
    "    df = df.drop(drop_rows_GrLivArea_outliers, axis =0)\n",
    "        \n",
    "    #NUMERIC DATA TYPES\n",
    "    # Creating 'porch_deck_sqft' by summing all porch and deck square footage columns\n",
    "    porch_and_deck_features = ['Wood Deck SF', 'Open Porch SF', 'Enclosed Porch', 'Screen Porch', '3Ssn Porch']\n",
    "    df['porch_deck_sqft'] = df[porch_and_deck_features].sum(axis=1)\n",
    "    \n",
    "    # Creating 'all_baths_count' by summing all types of bathrooms\n",
    "    bath_features = ['Bsmt Full Bath', 'Bsmt Half Bath', 'Half Bath', 'Full Bath']\n",
    "    df['all_baths_count'] = df[bath_features].sum(axis=1)\n",
    "    \n",
    "    # fill in missing values in the following numeric features with 0\n",
    "    df['Total Bsmt SF'].fillna(0, inplace = True)\n",
    "    df['Mas Vnr Area'].fillna(0, inplace = True)\n",
    "    df['Garage Cars'].fillna(0, inplace = True)\n",
    "    df['Garage Area'].fillna(0, inplace = True)\n",
    "    \n",
    "    \n",
    "    #go through the dataframe, and if there is a missing value in \"Lot Frontage\", fill in with the mean of \"Lot Frontage\" that is groupby \"Neighborhood\"\n",
    "    df['Lot Frontage'] = df.groupby(\"Neighborhood\")['Lot Frontage'].transform(lambda value : value.fillna(value.mean()))\n",
    "    #if there are still NaN values, just drop the row:\n",
    "    df.dropna(subset=['Lot Frontage'], inplace=True)   \n",
    "    \n",
    "    #STRING OBJECT DATA TYPES\n",
    "    # fill in NaNs in \"Mas Vnr Type\", which records the masonry veneer type (nominal), and one of the options is \"None\".\n",
    "    df['Mas Vnr Type'].fillna('None', inplace = True)\n",
    "    \n",
    "    # Fill in the NaNs in categorical garage features with \"No Garage\"\n",
    "    df['Garage Qual'].fillna('NA', inplace = True)\n",
    "    \n",
    "    # Fill in the NaNs in categorical ordinal \"Bsmt Qual\" features with \"No Garage\"\n",
    "    df[\"Bsmt Qual\"].fillna('NA', inplace = True)\n",
    "\n",
    "    return df"
   ]
  },
  {
   "cell_type": "code",
   "execution_count": 139,
   "id": "4eac4cd9-d99e-4a57-99cd-e71a1deb2973",
   "metadata": {},
   "outputs": [
    {
     "data": {
      "text/html": [
       "<div>\n",
       "<style scoped>\n",
       "    .dataframe tbody tr th:only-of-type {\n",
       "        vertical-align: middle;\n",
       "    }\n",
       "\n",
       "    .dataframe tbody tr th {\n",
       "        vertical-align: top;\n",
       "    }\n",
       "\n",
       "    .dataframe thead th {\n",
       "        text-align: right;\n",
       "    }\n",
       "</style>\n",
       "<table border=\"1\" class=\"dataframe\">\n",
       "  <thead>\n",
       "    <tr style=\"text-align: right;\">\n",
       "      <th></th>\n",
       "      <th>Gr Liv Area</th>\n",
       "      <th>Total Bsmt SF</th>\n",
       "      <th>Garage Cars</th>\n",
       "      <th>Garage Area</th>\n",
       "      <th>Year Built</th>\n",
       "      <th>Year Remod/Add</th>\n",
       "      <th>TotRms AbvGrd</th>\n",
       "      <th>Mas Vnr Area</th>\n",
       "      <th>Fireplaces</th>\n",
       "      <th>Lot Frontage</th>\n",
       "      <th>...</th>\n",
       "      <th>Overall Qual</th>\n",
       "      <th>Overall Cond</th>\n",
       "      <th>Exter Qual</th>\n",
       "      <th>Bsmt Qual</th>\n",
       "      <th>Heating QC</th>\n",
       "      <th>Kitchen Qual</th>\n",
       "      <th>Functional</th>\n",
       "      <th>Electrical</th>\n",
       "      <th>Garage Qual</th>\n",
       "      <th>SalePrice</th>\n",
       "    </tr>\n",
       "  </thead>\n",
       "  <tbody>\n",
       "    <tr>\n",
       "      <th>0</th>\n",
       "      <td>1587</td>\n",
       "      <td>1587.0</td>\n",
       "      <td>2.0</td>\n",
       "      <td>525.0</td>\n",
       "      <td>1971</td>\n",
       "      <td>1971</td>\n",
       "      <td>7</td>\n",
       "      <td>302.0</td>\n",
       "      <td>1</td>\n",
       "      <td>85.000000</td>\n",
       "      <td>...</td>\n",
       "      <td>6</td>\n",
       "      <td>6</td>\n",
       "      <td>TA</td>\n",
       "      <td>TA</td>\n",
       "      <td>TA</td>\n",
       "      <td>TA</td>\n",
       "      <td>Typ</td>\n",
       "      <td>SBrkr</td>\n",
       "      <td>TA</td>\n",
       "      <td>167300</td>\n",
       "    </tr>\n",
       "    <tr>\n",
       "      <th>1</th>\n",
       "      <td>2267</td>\n",
       "      <td>1005.0</td>\n",
       "      <td>2.0</td>\n",
       "      <td>498.0</td>\n",
       "      <td>1937</td>\n",
       "      <td>1980</td>\n",
       "      <td>7</td>\n",
       "      <td>0.0</td>\n",
       "      <td>2</td>\n",
       "      <td>107.000000</td>\n",
       "      <td>...</td>\n",
       "      <td>7</td>\n",
       "      <td>8</td>\n",
       "      <td>TA</td>\n",
       "      <td>TA</td>\n",
       "      <td>TA</td>\n",
       "      <td>TA</td>\n",
       "      <td>Typ</td>\n",
       "      <td>SBrkr</td>\n",
       "      <td>TA</td>\n",
       "      <td>219000</td>\n",
       "    </tr>\n",
       "    <tr>\n",
       "      <th>2</th>\n",
       "      <td>864</td>\n",
       "      <td>864.0</td>\n",
       "      <td>2.0</td>\n",
       "      <td>720.0</td>\n",
       "      <td>1950</td>\n",
       "      <td>2002</td>\n",
       "      <td>5</td>\n",
       "      <td>0.0</td>\n",
       "      <td>0</td>\n",
       "      <td>60.000000</td>\n",
       "      <td>...</td>\n",
       "      <td>5</td>\n",
       "      <td>8</td>\n",
       "      <td>TA</td>\n",
       "      <td>TA</td>\n",
       "      <td>Gd</td>\n",
       "      <td>Gd</td>\n",
       "      <td>Typ</td>\n",
       "      <td>SBrkr</td>\n",
       "      <td>TA</td>\n",
       "      <td>129000</td>\n",
       "    </tr>\n",
       "    <tr>\n",
       "      <th>3</th>\n",
       "      <td>2260</td>\n",
       "      <td>1306.0</td>\n",
       "      <td>2.0</td>\n",
       "      <td>533.0</td>\n",
       "      <td>1996</td>\n",
       "      <td>1997</td>\n",
       "      <td>7</td>\n",
       "      <td>0.0</td>\n",
       "      <td>0</td>\n",
       "      <td>80.000000</td>\n",
       "      <td>...</td>\n",
       "      <td>7</td>\n",
       "      <td>5</td>\n",
       "      <td>Gd</td>\n",
       "      <td>Ex</td>\n",
       "      <td>Ex</td>\n",
       "      <td>Gd</td>\n",
       "      <td>Typ</td>\n",
       "      <td>SBrkr</td>\n",
       "      <td>TA</td>\n",
       "      <td>328000</td>\n",
       "    </tr>\n",
       "    <tr>\n",
       "      <th>4</th>\n",
       "      <td>2501</td>\n",
       "      <td>1242.0</td>\n",
       "      <td>3.0</td>\n",
       "      <td>751.0</td>\n",
       "      <td>1995</td>\n",
       "      <td>1995</td>\n",
       "      <td>9</td>\n",
       "      <td>466.0</td>\n",
       "      <td>1</td>\n",
       "      <td>88.733333</td>\n",
       "      <td>...</td>\n",
       "      <td>8</td>\n",
       "      <td>7</td>\n",
       "      <td>Gd</td>\n",
       "      <td>Gd</td>\n",
       "      <td>Ex</td>\n",
       "      <td>Gd</td>\n",
       "      <td>Typ</td>\n",
       "      <td>SBrkr</td>\n",
       "      <td>TA</td>\n",
       "      <td>290000</td>\n",
       "    </tr>\n",
       "  </tbody>\n",
       "</table>\n",
       "<p>5 rows × 30 columns</p>\n",
       "</div>"
      ],
      "text/plain": [
       "   Gr Liv Area  Total Bsmt SF  Garage Cars  Garage Area  Year Built  \\\n",
       "0         1587         1587.0          2.0        525.0        1971   \n",
       "1         2267         1005.0          2.0        498.0        1937   \n",
       "2          864          864.0          2.0        720.0        1950   \n",
       "3         2260         1306.0          2.0        533.0        1996   \n",
       "4         2501         1242.0          3.0        751.0        1995   \n",
       "\n",
       "   Year Remod/Add  TotRms AbvGrd  Mas Vnr Area  Fireplaces  Lot Frontage  ...  \\\n",
       "0            1971              7         302.0           1     85.000000  ...   \n",
       "1            1980              7           0.0           2    107.000000  ...   \n",
       "2            2002              5           0.0           0     60.000000  ...   \n",
       "3            1997              7           0.0           0     80.000000  ...   \n",
       "4            1995              9         466.0           1     88.733333  ...   \n",
       "\n",
       "   Overall Qual  Overall Cond  Exter Qual Bsmt Qual Heating QC Kitchen Qual  \\\n",
       "0             6             6          TA        TA         TA           TA   \n",
       "1             7             8          TA        TA         TA           TA   \n",
       "2             5             8          TA        TA         Gd           Gd   \n",
       "3             7             5          Gd        Ex         Ex           Gd   \n",
       "4             8             7          Gd        Gd         Ex           Gd   \n",
       "\n",
       "  Functional Electrical Garage Qual SalePrice  \n",
       "0        Typ      SBrkr          TA    167300  \n",
       "1        Typ      SBrkr          TA    219000  \n",
       "2        Typ      SBrkr          TA    129000  \n",
       "3        Typ      SBrkr          TA    328000  \n",
       "4        Typ      SBrkr          TA    290000  \n",
       "\n",
       "[5 rows x 30 columns]"
      ]
     },
     "execution_count": 139,
     "metadata": {},
     "output_type": "execute_result"
    }
   ],
   "source": [
    "train_preprocessed = preprocessing(train)\n",
    "train_trimmed = train_preprocessed[numeric_features + nominal_features + ordinal_features + ['SalePrice']]\n",
    "train_trimmed.head()"
   ]
  },
  {
   "cell_type": "code",
   "execution_count": 140,
   "id": "fc3eed4d-7ed2-449b-9de7-4a637ebc4b24",
   "metadata": {},
   "outputs": [
    {
     "data": {
      "text/plain": [
       "Gr Liv Area        0\n",
       "Total Bsmt SF      0\n",
       "Garage Cars        0\n",
       "Garage Area        0\n",
       "Year Built         0\n",
       "Year Remod/Add     0\n",
       "TotRms AbvGrd      0\n",
       "Mas Vnr Area       0\n",
       "Fireplaces         0\n",
       "Lot Frontage       0\n",
       "Lot Area           0\n",
       "porch_deck_sqft    0\n",
       "all_baths_count    0\n",
       "Neighborhood       0\n",
       "MS Zoning          0\n",
       "Bldg Type          0\n",
       "Mas Vnr Type       0\n",
       "House Style        0\n",
       "Foundation         0\n",
       "Sale Type          0\n",
       "Overall Qual       0\n",
       "Overall Cond       0\n",
       "Exter Qual         0\n",
       "Bsmt Qual          0\n",
       "Heating QC         0\n",
       "Kitchen Qual       0\n",
       "Functional         0\n",
       "Electrical         0\n",
       "Garage Qual        0\n",
       "SalePrice          0\n",
       "dtype: int64"
      ]
     },
     "execution_count": 140,
     "metadata": {},
     "output_type": "execute_result"
    }
   ],
   "source": [
    "train_trimmed.isnull().sum()"
   ]
  },
  {
   "cell_type": "markdown",
   "id": "6889552b-2482-4a17-b2fa-53f824bfc71e",
   "metadata": {},
   "source": [
    "## Feature Engineering"
   ]
  },
  {
   "cell_type": "code",
   "execution_count": 142,
   "id": "fe70ef7d-a265-49c5-a004-ba5b3412f288",
   "metadata": {},
   "outputs": [],
   "source": [
    "#separate the train set data into X features and y target\n",
    "X = train_trimmed.drop(['SalePrice'], axis =1)\n",
    "y = train_trimmed['SalePrice']"
   ]
  },
  {
   "cell_type": "code",
   "execution_count": 143,
   "id": "c0547a1c-d7e0-452d-861f-ca32db15e777",
   "metadata": {},
   "outputs": [],
   "source": [
    "# split up X and y into train set and test set\n",
    "X_train, X_test, y_train, y_test = train_test_split(X, y)"
   ]
  },
  {
   "cell_type": "code",
   "execution_count": 144,
   "id": "0f3b72d9-ec0c-4f78-8cc1-5bc4acd86c13",
   "metadata": {},
   "outputs": [
    {
     "name": "stdout",
     "output_type": "stream",
     "text": [
      "(1149, 29)\n",
      "(1149,)\n"
     ]
    }
   ],
   "source": [
    "# verify that the shapes are ok\n",
    "print(X_train.shape)\n",
    "print(y_train.shape)"
   ]
  },
  {
   "cell_type": "markdown",
   "id": "5a9ce896-a7f5-48f2-b6fe-d97db70ee558",
   "metadata": {},
   "source": [
    "### Transformer and Pipeline"
   ]
  },
  {
   "cell_type": "code",
   "execution_count": 145,
   "id": "d013465b-77d9-4e6a-a712-5a4864008eec",
   "metadata": {},
   "outputs": [],
   "source": [
    "# scale numeric_features using PolynomialFeatures & MinMaxScaler()\n",
    "numeric_transformer = Pipeline(steps=[('poly', PolynomialFeatures(degree=2, include_bias = False)),\n",
    "                                      ('scaler', MinMaxScaler())])\n",
    "\n",
    "# encode nominal_features using OneHotEncoder\n",
    "nominal_transformer = Pipeline(steps=[('onehot', OneHotEncoder(handle_unknown='ignore'))\n",
    "                                     ])\n",
    "ordinal_transformer = Pipeline(steps=[\n",
    "    ('ordinal', OrdinalEncoder(categories=list(ordinal_features_dict.values()))), \n",
    "    ('scaler', MinMaxScaler())])\n",
    "\n",
    "# use ColumnTransformer to transform each feature based on the type (numeric, nominal, or ordinal)\n",
    "preprocessor = ColumnTransformer(\n",
    "    transformers=[\n",
    "        ('numeric', numeric_transformer, numeric_features),\n",
    "        ('nominal', nominal_transformer, nominal_features),\n",
    "        ('ordinal', ordinal_transformer, ordinal_features) ])"
   ]
  },
  {
   "cell_type": "markdown",
   "id": "19d6cc68-4345-47ad-88b5-aa932f12a6ca",
   "metadata": {},
   "source": [
    "### TransformTargetRegressor and Pipeline"
   ]
  },
  {
   "cell_type": "code",
   "execution_count": 146,
   "id": "7dec50f7-6658-47d4-a223-347168c37c6c",
   "metadata": {},
   "outputs": [],
   "source": [
    "# our function is log\n",
    "# our inverse function is np.exp\n",
    "ttr_ridge_model = TransformedTargetRegressor(Ridge(), func = np.log, inverse_func = np.exp)"
   ]
  },
  {
   "cell_type": "code",
   "execution_count": 175,
   "id": "d630a3f4-02ff-4ea4-9c67-a4fc42b8dafe",
   "metadata": {},
   "outputs": [],
   "source": [
    "# Combine into a complete pipeline\n",
    "ridge_pipe = Pipeline(steps=[('preprocessor', preprocessor),\n",
    "                             ('ttr_ridge_model', ttr_ridge_model)])"
   ]
  },
  {
   "cell_type": "code",
   "execution_count": 148,
   "id": "1c6d1a24-5a22-4af4-9bb2-361cb337ca6c",
   "metadata": {},
   "outputs": [
    {
     "data": {
      "text/html": [
       "<style>#sk-container-id-6 {color: black;background-color: white;}#sk-container-id-6 pre{padding: 0;}#sk-container-id-6 div.sk-toggleable {background-color: white;}#sk-container-id-6 label.sk-toggleable__label {cursor: pointer;display: block;width: 100%;margin-bottom: 0;padding: 0.3em;box-sizing: border-box;text-align: center;}#sk-container-id-6 label.sk-toggleable__label-arrow:before {content: \"▸\";float: left;margin-right: 0.25em;color: #696969;}#sk-container-id-6 label.sk-toggleable__label-arrow:hover:before {color: black;}#sk-container-id-6 div.sk-estimator:hover label.sk-toggleable__label-arrow:before {color: black;}#sk-container-id-6 div.sk-toggleable__content {max-height: 0;max-width: 0;overflow: hidden;text-align: left;background-color: #f0f8ff;}#sk-container-id-6 div.sk-toggleable__content pre {margin: 0.2em;color: black;border-radius: 0.25em;background-color: #f0f8ff;}#sk-container-id-6 input.sk-toggleable__control:checked~div.sk-toggleable__content {max-height: 200px;max-width: 100%;overflow: auto;}#sk-container-id-6 input.sk-toggleable__control:checked~label.sk-toggleable__label-arrow:before {content: \"▾\";}#sk-container-id-6 div.sk-estimator input.sk-toggleable__control:checked~label.sk-toggleable__label {background-color: #d4ebff;}#sk-container-id-6 div.sk-label input.sk-toggleable__control:checked~label.sk-toggleable__label {background-color: #d4ebff;}#sk-container-id-6 input.sk-hidden--visually {border: 0;clip: rect(1px 1px 1px 1px);clip: rect(1px, 1px, 1px, 1px);height: 1px;margin: -1px;overflow: hidden;padding: 0;position: absolute;width: 1px;}#sk-container-id-6 div.sk-estimator {font-family: monospace;background-color: #f0f8ff;border: 1px dotted black;border-radius: 0.25em;box-sizing: border-box;margin-bottom: 0.5em;}#sk-container-id-6 div.sk-estimator:hover {background-color: #d4ebff;}#sk-container-id-6 div.sk-parallel-item::after {content: \"\";width: 100%;border-bottom: 1px solid gray;flex-grow: 1;}#sk-container-id-6 div.sk-label:hover label.sk-toggleable__label {background-color: #d4ebff;}#sk-container-id-6 div.sk-serial::before {content: \"\";position: absolute;border-left: 1px solid gray;box-sizing: border-box;top: 0;bottom: 0;left: 50%;z-index: 0;}#sk-container-id-6 div.sk-serial {display: flex;flex-direction: column;align-items: center;background-color: white;padding-right: 0.2em;padding-left: 0.2em;position: relative;}#sk-container-id-6 div.sk-item {position: relative;z-index: 1;}#sk-container-id-6 div.sk-parallel {display: flex;align-items: stretch;justify-content: center;background-color: white;position: relative;}#sk-container-id-6 div.sk-item::before, #sk-container-id-6 div.sk-parallel-item::before {content: \"\";position: absolute;border-left: 1px solid gray;box-sizing: border-box;top: 0;bottom: 0;left: 50%;z-index: -1;}#sk-container-id-6 div.sk-parallel-item {display: flex;flex-direction: column;z-index: 1;position: relative;background-color: white;}#sk-container-id-6 div.sk-parallel-item:first-child::after {align-self: flex-end;width: 50%;}#sk-container-id-6 div.sk-parallel-item:last-child::after {align-self: flex-start;width: 50%;}#sk-container-id-6 div.sk-parallel-item:only-child::after {width: 0;}#sk-container-id-6 div.sk-dashed-wrapped {border: 1px dashed gray;margin: 0 0.4em 0.5em 0.4em;box-sizing: border-box;padding-bottom: 0.4em;background-color: white;}#sk-container-id-6 div.sk-label label {font-family: monospace;font-weight: bold;display: inline-block;line-height: 1.2em;}#sk-container-id-6 div.sk-label-container {text-align: center;}#sk-container-id-6 div.sk-container {/* jupyter's `normalize.less` sets `[hidden] { display: none; }` but bootstrap.min.css set `[hidden] { display: none !important; }` so we also need the `!important` here to be able to override the default hidden behavior on the sphinx rendered scikit-learn.org. See: https://github.com/scikit-learn/scikit-learn/issues/21755 */display: inline-block !important;position: relative;}#sk-container-id-6 div.sk-text-repr-fallback {display: none;}</style><div id=\"sk-container-id-6\" class=\"sk-top-container\"><div class=\"sk-text-repr-fallback\"><pre>Pipeline(steps=[(&#x27;preprocessor&#x27;,\n",
       "                 ColumnTransformer(transformers=[(&#x27;numeric&#x27;,\n",
       "                                                  Pipeline(steps=[(&#x27;poly&#x27;,\n",
       "                                                                   PolynomialFeatures(include_bias=False)),\n",
       "                                                                  (&#x27;scaler&#x27;,\n",
       "                                                                   MinMaxScaler())]),\n",
       "                                                  [&#x27;Gr Liv Area&#x27;,\n",
       "                                                   &#x27;Total Bsmt SF&#x27;,\n",
       "                                                   &#x27;Garage Cars&#x27;, &#x27;Garage Area&#x27;,\n",
       "                                                   &#x27;Year Built&#x27;,\n",
       "                                                   &#x27;Year Remod/Add&#x27;,\n",
       "                                                   &#x27;TotRms AbvGrd&#x27;,\n",
       "                                                   &#x27;Mas Vnr Area&#x27;, &#x27;Fireplaces&#x27;,\n",
       "                                                   &#x27;Lot Frontage&#x27;, &#x27;Lot Area&#x27;,\n",
       "                                                   &#x27;porch_deck_sqft&#x27;,\n",
       "                                                   &#x27;all_baths_count&#x27;])...\n",
       "                                                                                               &#x27;Min1&#x27;,\n",
       "                                                                                               &#x27;Typ&#x27;],\n",
       "                                                                                              [&#x27;Mix&#x27;,\n",
       "                                                                                               &#x27;FuseP&#x27;,\n",
       "                                                                                               &#x27;FuseF&#x27;,\n",
       "                                                                                               &#x27;FuseA&#x27;,\n",
       "                                                                                               &#x27;SBrkr&#x27;],\n",
       "                                                                                              [&#x27;NA&#x27;,\n",
       "                                                                                               &#x27;Po&#x27;,\n",
       "                                                                                               &#x27;Fa&#x27;,\n",
       "                                                                                               &#x27;TA&#x27;,\n",
       "                                                                                               &#x27;Gd&#x27;,\n",
       "                                                                                               &#x27;Ex&#x27;]])),\n",
       "                                                                  (&#x27;scaler&#x27;,\n",
       "                                                                   MinMaxScaler())]),\n",
       "                                                  [&#x27;Overall Qual&#x27;,\n",
       "                                                   &#x27;Overall Cond&#x27;, &#x27;Exter Qual&#x27;,\n",
       "                                                   &#x27;Bsmt Qual&#x27;, &#x27;Heating QC&#x27;,\n",
       "                                                   &#x27;Kitchen Qual&#x27;, &#x27;Functional&#x27;,\n",
       "                                                   &#x27;Electrical&#x27;,\n",
       "                                                   &#x27;Garage Qual&#x27;])])),\n",
       "                (&#x27;ttr_ridge_model&#x27;,\n",
       "                 TransformedTargetRegressor(func=&lt;ufunc &#x27;log&#x27;&gt;,\n",
       "                                            inverse_func=&lt;ufunc &#x27;exp&#x27;&gt;,\n",
       "                                            regressor=Ridge()))])</pre><b>In a Jupyter environment, please rerun this cell to show the HTML representation or trust the notebook. <br />On GitHub, the HTML representation is unable to render, please try loading this page with nbviewer.org.</b></div><div class=\"sk-container\" hidden><div class=\"sk-item sk-dashed-wrapped\"><div class=\"sk-label-container\"><div class=\"sk-label sk-toggleable\"><input class=\"sk-toggleable__control sk-hidden--visually\" id=\"sk-estimator-id-69\" type=\"checkbox\" ><label for=\"sk-estimator-id-69\" class=\"sk-toggleable__label sk-toggleable__label-arrow\">Pipeline</label><div class=\"sk-toggleable__content\"><pre>Pipeline(steps=[(&#x27;preprocessor&#x27;,\n",
       "                 ColumnTransformer(transformers=[(&#x27;numeric&#x27;,\n",
       "                                                  Pipeline(steps=[(&#x27;poly&#x27;,\n",
       "                                                                   PolynomialFeatures(include_bias=False)),\n",
       "                                                                  (&#x27;scaler&#x27;,\n",
       "                                                                   MinMaxScaler())]),\n",
       "                                                  [&#x27;Gr Liv Area&#x27;,\n",
       "                                                   &#x27;Total Bsmt SF&#x27;,\n",
       "                                                   &#x27;Garage Cars&#x27;, &#x27;Garage Area&#x27;,\n",
       "                                                   &#x27;Year Built&#x27;,\n",
       "                                                   &#x27;Year Remod/Add&#x27;,\n",
       "                                                   &#x27;TotRms AbvGrd&#x27;,\n",
       "                                                   &#x27;Mas Vnr Area&#x27;, &#x27;Fireplaces&#x27;,\n",
       "                                                   &#x27;Lot Frontage&#x27;, &#x27;Lot Area&#x27;,\n",
       "                                                   &#x27;porch_deck_sqft&#x27;,\n",
       "                                                   &#x27;all_baths_count&#x27;])...\n",
       "                                                                                               &#x27;Min1&#x27;,\n",
       "                                                                                               &#x27;Typ&#x27;],\n",
       "                                                                                              [&#x27;Mix&#x27;,\n",
       "                                                                                               &#x27;FuseP&#x27;,\n",
       "                                                                                               &#x27;FuseF&#x27;,\n",
       "                                                                                               &#x27;FuseA&#x27;,\n",
       "                                                                                               &#x27;SBrkr&#x27;],\n",
       "                                                                                              [&#x27;NA&#x27;,\n",
       "                                                                                               &#x27;Po&#x27;,\n",
       "                                                                                               &#x27;Fa&#x27;,\n",
       "                                                                                               &#x27;TA&#x27;,\n",
       "                                                                                               &#x27;Gd&#x27;,\n",
       "                                                                                               &#x27;Ex&#x27;]])),\n",
       "                                                                  (&#x27;scaler&#x27;,\n",
       "                                                                   MinMaxScaler())]),\n",
       "                                                  [&#x27;Overall Qual&#x27;,\n",
       "                                                   &#x27;Overall Cond&#x27;, &#x27;Exter Qual&#x27;,\n",
       "                                                   &#x27;Bsmt Qual&#x27;, &#x27;Heating QC&#x27;,\n",
       "                                                   &#x27;Kitchen Qual&#x27;, &#x27;Functional&#x27;,\n",
       "                                                   &#x27;Electrical&#x27;,\n",
       "                                                   &#x27;Garage Qual&#x27;])])),\n",
       "                (&#x27;ttr_ridge_model&#x27;,\n",
       "                 TransformedTargetRegressor(func=&lt;ufunc &#x27;log&#x27;&gt;,\n",
       "                                            inverse_func=&lt;ufunc &#x27;exp&#x27;&gt;,\n",
       "                                            regressor=Ridge()))])</pre></div></div></div><div class=\"sk-serial\"><div class=\"sk-item sk-dashed-wrapped\"><div class=\"sk-label-container\"><div class=\"sk-label sk-toggleable\"><input class=\"sk-toggleable__control sk-hidden--visually\" id=\"sk-estimator-id-70\" type=\"checkbox\" ><label for=\"sk-estimator-id-70\" class=\"sk-toggleable__label sk-toggleable__label-arrow\">preprocessor: ColumnTransformer</label><div class=\"sk-toggleable__content\"><pre>ColumnTransformer(transformers=[(&#x27;numeric&#x27;,\n",
       "                                 Pipeline(steps=[(&#x27;poly&#x27;,\n",
       "                                                  PolynomialFeatures(include_bias=False)),\n",
       "                                                 (&#x27;scaler&#x27;, MinMaxScaler())]),\n",
       "                                 [&#x27;Gr Liv Area&#x27;, &#x27;Total Bsmt SF&#x27;, &#x27;Garage Cars&#x27;,\n",
       "                                  &#x27;Garage Area&#x27;, &#x27;Year Built&#x27;, &#x27;Year Remod/Add&#x27;,\n",
       "                                  &#x27;TotRms AbvGrd&#x27;, &#x27;Mas Vnr Area&#x27;, &#x27;Fireplaces&#x27;,\n",
       "                                  &#x27;Lot Frontage&#x27;, &#x27;Lot Area&#x27;, &#x27;porch_deck_sqft&#x27;,\n",
       "                                  &#x27;all_baths_count&#x27;]),\n",
       "                                (&#x27;nominal&#x27;,\n",
       "                                 Pipeline(steps=[(&#x27;on...\n",
       "                                                                              &#x27;Fa&#x27;,\n",
       "                                                                              &#x27;TA&#x27;,\n",
       "                                                                              &#x27;Gd&#x27;,\n",
       "                                                                              &#x27;Ex&#x27;],\n",
       "                                                                             [&#x27;Po&#x27;,\n",
       "                                                                              &#x27;Fa&#x27;,\n",
       "                                                                              &#x27;TA&#x27;,\n",
       "                                                                              &#x27;Gd&#x27;,\n",
       "                                                                              &#x27;Ex&#x27;],\n",
       "                                                                             [&#x27;Po&#x27;,\n",
       "                                                                              &#x27;Fa&#x27;,\n",
       "                                                                              &#x27;TA&#x27;,\n",
       "                                                                              &#x27;Gd&#x27;,\n",
       "                                                                              &#x27;Ex&#x27;],\n",
       "                                                                             [&#x27;Sal&#x27;,\n",
       "                                                                              &#x27;Sev&#x27;,\n",
       "                                                                              &#x27;Maj2&#x27;,\n",
       "                                                                              &#x27;Maj1&#x27;,\n",
       "                                                                              &#x27;Mod&#x27;,\n",
       "                                                                              &#x27;Min2&#x27;,\n",
       "                                                                              &#x27;Min1&#x27;,\n",
       "                                                                              &#x27;Typ&#x27;],\n",
       "                                                                             [&#x27;Mix&#x27;,\n",
       "                                                                              &#x27;FuseP&#x27;,\n",
       "                                                                              &#x27;FuseF&#x27;,\n",
       "                                                                              &#x27;FuseA&#x27;,\n",
       "                                                                              &#x27;SBrkr&#x27;],\n",
       "                                                                             [&#x27;NA&#x27;,\n",
       "                                                                              &#x27;Po&#x27;,\n",
       "                                                                              &#x27;Fa&#x27;,\n",
       "                                                                              &#x27;TA&#x27;,\n",
       "                                                                              &#x27;Gd&#x27;,\n",
       "                                                                              &#x27;Ex&#x27;]])),\n",
       "                                                 (&#x27;scaler&#x27;, MinMaxScaler())]),\n",
       "                                 [&#x27;Overall Qual&#x27;, &#x27;Overall Cond&#x27;, &#x27;Exter Qual&#x27;,\n",
       "                                  &#x27;Bsmt Qual&#x27;, &#x27;Heating QC&#x27;, &#x27;Kitchen Qual&#x27;,\n",
       "                                  &#x27;Functional&#x27;, &#x27;Electrical&#x27;, &#x27;Garage Qual&#x27;])])</pre></div></div></div><div class=\"sk-parallel\"><div class=\"sk-parallel-item\"><div class=\"sk-item\"><div class=\"sk-label-container\"><div class=\"sk-label sk-toggleable\"><input class=\"sk-toggleable__control sk-hidden--visually\" id=\"sk-estimator-id-71\" type=\"checkbox\" ><label for=\"sk-estimator-id-71\" class=\"sk-toggleable__label sk-toggleable__label-arrow\">numeric</label><div class=\"sk-toggleable__content\"><pre>[&#x27;Gr Liv Area&#x27;, &#x27;Total Bsmt SF&#x27;, &#x27;Garage Cars&#x27;, &#x27;Garage Area&#x27;, &#x27;Year Built&#x27;, &#x27;Year Remod/Add&#x27;, &#x27;TotRms AbvGrd&#x27;, &#x27;Mas Vnr Area&#x27;, &#x27;Fireplaces&#x27;, &#x27;Lot Frontage&#x27;, &#x27;Lot Area&#x27;, &#x27;porch_deck_sqft&#x27;, &#x27;all_baths_count&#x27;]</pre></div></div></div><div class=\"sk-serial\"><div class=\"sk-item\"><div class=\"sk-serial\"><div class=\"sk-item\"><div class=\"sk-estimator sk-toggleable\"><input class=\"sk-toggleable__control sk-hidden--visually\" id=\"sk-estimator-id-72\" type=\"checkbox\" ><label for=\"sk-estimator-id-72\" class=\"sk-toggleable__label sk-toggleable__label-arrow\">PolynomialFeatures</label><div class=\"sk-toggleable__content\"><pre>PolynomialFeatures(include_bias=False)</pre></div></div></div><div class=\"sk-item\"><div class=\"sk-estimator sk-toggleable\"><input class=\"sk-toggleable__control sk-hidden--visually\" id=\"sk-estimator-id-73\" type=\"checkbox\" ><label for=\"sk-estimator-id-73\" class=\"sk-toggleable__label sk-toggleable__label-arrow\">MinMaxScaler</label><div class=\"sk-toggleable__content\"><pre>MinMaxScaler()</pre></div></div></div></div></div></div></div></div><div class=\"sk-parallel-item\"><div class=\"sk-item\"><div class=\"sk-label-container\"><div class=\"sk-label sk-toggleable\"><input class=\"sk-toggleable__control sk-hidden--visually\" id=\"sk-estimator-id-74\" type=\"checkbox\" ><label for=\"sk-estimator-id-74\" class=\"sk-toggleable__label sk-toggleable__label-arrow\">nominal</label><div class=\"sk-toggleable__content\"><pre>[&#x27;Neighborhood&#x27;, &#x27;MS Zoning&#x27;, &#x27;Bldg Type&#x27;, &#x27;Mas Vnr Type&#x27;, &#x27;House Style&#x27;, &#x27;Foundation&#x27;, &#x27;Sale Type&#x27;]</pre></div></div></div><div class=\"sk-serial\"><div class=\"sk-item\"><div class=\"sk-serial\"><div class=\"sk-item\"><div class=\"sk-estimator sk-toggleable\"><input class=\"sk-toggleable__control sk-hidden--visually\" id=\"sk-estimator-id-75\" type=\"checkbox\" ><label for=\"sk-estimator-id-75\" class=\"sk-toggleable__label sk-toggleable__label-arrow\">OneHotEncoder</label><div class=\"sk-toggleable__content\"><pre>OneHotEncoder(handle_unknown=&#x27;ignore&#x27;)</pre></div></div></div></div></div></div></div></div><div class=\"sk-parallel-item\"><div class=\"sk-item\"><div class=\"sk-label-container\"><div class=\"sk-label sk-toggleable\"><input class=\"sk-toggleable__control sk-hidden--visually\" id=\"sk-estimator-id-76\" type=\"checkbox\" ><label for=\"sk-estimator-id-76\" class=\"sk-toggleable__label sk-toggleable__label-arrow\">ordinal</label><div class=\"sk-toggleable__content\"><pre>[&#x27;Overall Qual&#x27;, &#x27;Overall Cond&#x27;, &#x27;Exter Qual&#x27;, &#x27;Bsmt Qual&#x27;, &#x27;Heating QC&#x27;, &#x27;Kitchen Qual&#x27;, &#x27;Functional&#x27;, &#x27;Electrical&#x27;, &#x27;Garage Qual&#x27;]</pre></div></div></div><div class=\"sk-serial\"><div class=\"sk-item\"><div class=\"sk-serial\"><div class=\"sk-item\"><div class=\"sk-estimator sk-toggleable\"><input class=\"sk-toggleable__control sk-hidden--visually\" id=\"sk-estimator-id-77\" type=\"checkbox\" ><label for=\"sk-estimator-id-77\" class=\"sk-toggleable__label sk-toggleable__label-arrow\">OrdinalEncoder</label><div class=\"sk-toggleable__content\"><pre>OrdinalEncoder(categories=[[&#x27;1&#x27;, &#x27;2&#x27;, &#x27;3&#x27;, &#x27;4&#x27;, &#x27;5&#x27;, &#x27;6&#x27;, &#x27;7&#x27;, &#x27;8&#x27;, &#x27;9&#x27;, &#x27;10&#x27;],\n",
       "                           [&#x27;1&#x27;, &#x27;2&#x27;, &#x27;3&#x27;, &#x27;4&#x27;, &#x27;5&#x27;, &#x27;6&#x27;, &#x27;7&#x27;, &#x27;8&#x27;, &#x27;9&#x27;, &#x27;10&#x27;],\n",
       "                           [&#x27;Po&#x27;, &#x27;Fa&#x27;, &#x27;TA&#x27;, &#x27;Gd&#x27;, &#x27;Ex&#x27;],\n",
       "                           [&#x27;NA&#x27;, &#x27;Po&#x27;, &#x27;Fa&#x27;, &#x27;TA&#x27;, &#x27;Gd&#x27;, &#x27;Ex&#x27;],\n",
       "                           [&#x27;Po&#x27;, &#x27;Fa&#x27;, &#x27;TA&#x27;, &#x27;Gd&#x27;, &#x27;Ex&#x27;],\n",
       "                           [&#x27;Po&#x27;, &#x27;Fa&#x27;, &#x27;TA&#x27;, &#x27;Gd&#x27;, &#x27;Ex&#x27;],\n",
       "                           [&#x27;Sal&#x27;, &#x27;Sev&#x27;, &#x27;Maj2&#x27;, &#x27;Maj1&#x27;, &#x27;Mod&#x27;, &#x27;Min2&#x27;, &#x27;Min1&#x27;,\n",
       "                            &#x27;Typ&#x27;],\n",
       "                           [&#x27;Mix&#x27;, &#x27;FuseP&#x27;, &#x27;FuseF&#x27;, &#x27;FuseA&#x27;, &#x27;SBrkr&#x27;],\n",
       "                           [&#x27;NA&#x27;, &#x27;Po&#x27;, &#x27;Fa&#x27;, &#x27;TA&#x27;, &#x27;Gd&#x27;, &#x27;Ex&#x27;]])</pre></div></div></div><div class=\"sk-item\"><div class=\"sk-estimator sk-toggleable\"><input class=\"sk-toggleable__control sk-hidden--visually\" id=\"sk-estimator-id-78\" type=\"checkbox\" ><label for=\"sk-estimator-id-78\" class=\"sk-toggleable__label sk-toggleable__label-arrow\">MinMaxScaler</label><div class=\"sk-toggleable__content\"><pre>MinMaxScaler()</pre></div></div></div></div></div></div></div></div></div></div><div class=\"sk-item sk-dashed-wrapped\"><div class=\"sk-label-container\"><div class=\"sk-label sk-toggleable\"><input class=\"sk-toggleable__control sk-hidden--visually\" id=\"sk-estimator-id-79\" type=\"checkbox\" ><label for=\"sk-estimator-id-79\" class=\"sk-toggleable__label sk-toggleable__label-arrow\">ttr_ridge_model: TransformedTargetRegressor</label><div class=\"sk-toggleable__content\"><pre>TransformedTargetRegressor(func=&lt;ufunc &#x27;log&#x27;&gt;, inverse_func=&lt;ufunc &#x27;exp&#x27;&gt;,\n",
       "                           regressor=Ridge())</pre></div></div></div><div class=\"sk-parallel\"><div class=\"sk-parallel-item\"><div class=\"sk-item\"><div class=\"sk-label-container\"><div class=\"sk-label sk-toggleable\"><input class=\"sk-toggleable__control sk-hidden--visually\" id=\"sk-estimator-id-80\" type=\"checkbox\" ><label for=\"sk-estimator-id-80\" class=\"sk-toggleable__label sk-toggleable__label-arrow\">regressor: Ridge</label><div class=\"sk-toggleable__content\"><pre>Ridge()</pre></div></div></div><div class=\"sk-serial\"><div class=\"sk-item\"><div class=\"sk-estimator sk-toggleable\"><input class=\"sk-toggleable__control sk-hidden--visually\" id=\"sk-estimator-id-81\" type=\"checkbox\" ><label for=\"sk-estimator-id-81\" class=\"sk-toggleable__label sk-toggleable__label-arrow\">Ridge</label><div class=\"sk-toggleable__content\"><pre>Ridge()</pre></div></div></div></div></div></div></div></div></div></div></div></div>"
      ],
      "text/plain": [
       "Pipeline(steps=[('preprocessor',\n",
       "                 ColumnTransformer(transformers=[('numeric',\n",
       "                                                  Pipeline(steps=[('poly',\n",
       "                                                                   PolynomialFeatures(include_bias=False)),\n",
       "                                                                  ('scaler',\n",
       "                                                                   MinMaxScaler())]),\n",
       "                                                  ['Gr Liv Area',\n",
       "                                                   'Total Bsmt SF',\n",
       "                                                   'Garage Cars', 'Garage Area',\n",
       "                                                   'Year Built',\n",
       "                                                   'Year Remod/Add',\n",
       "                                                   'TotRms AbvGrd',\n",
       "                                                   'Mas Vnr Area', 'Fireplaces',\n",
       "                                                   'Lot Frontage', 'Lot Area',\n",
       "                                                   'porch_deck_sqft',\n",
       "                                                   'all_baths_count'])...\n",
       "                                                                                               'Min1',\n",
       "                                                                                               'Typ'],\n",
       "                                                                                              ['Mix',\n",
       "                                                                                               'FuseP',\n",
       "                                                                                               'FuseF',\n",
       "                                                                                               'FuseA',\n",
       "                                                                                               'SBrkr'],\n",
       "                                                                                              ['NA',\n",
       "                                                                                               'Po',\n",
       "                                                                                               'Fa',\n",
       "                                                                                               'TA',\n",
       "                                                                                               'Gd',\n",
       "                                                                                               'Ex']])),\n",
       "                                                                  ('scaler',\n",
       "                                                                   MinMaxScaler())]),\n",
       "                                                  ['Overall Qual',\n",
       "                                                   'Overall Cond', 'Exter Qual',\n",
       "                                                   'Bsmt Qual', 'Heating QC',\n",
       "                                                   'Kitchen Qual', 'Functional',\n",
       "                                                   'Electrical',\n",
       "                                                   'Garage Qual'])])),\n",
       "                ('ttr_ridge_model',\n",
       "                 TransformedTargetRegressor(func=<ufunc 'log'>,\n",
       "                                            inverse_func=<ufunc 'exp'>,\n",
       "                                            regressor=Ridge()))])"
      ]
     },
     "execution_count": 148,
     "metadata": {},
     "output_type": "execute_result"
    }
   ],
   "source": [
    "ridge_pipe"
   ]
  },
  {
   "cell_type": "markdown",
   "id": "6ac79eed-f42a-4fc2-b9b8-b187ea7a6632",
   "metadata": {},
   "source": [
    "### Hyperparameter tuning with GridSearchCV"
   ]
  },
  {
   "cell_type": "code",
   "execution_count": 149,
   "id": "82916642-9dcd-48ba-8428-903b7f8447dc",
   "metadata": {},
   "outputs": [],
   "source": [
    "# Using GridSearchCV for hyperparameter tuning\n",
    "#params for ridge & polynomialfeatures\n",
    "param_grid = {\n",
    "    'ttr_ridge_model__regressor__alpha': [0.001, 0.1, 1]}\n",
    "\n",
    "gridsearchcv = GridSearchCV(estimator=ridge_pipe,\n",
    "                            param_grid=param_grid,\n",
    "                            cv=5,\n",
    "                            scoring='r2',\n",
    "                            error_score='raise',\n",
    "                            verbose=1)"
   ]
  },
  {
   "cell_type": "code",
   "execution_count": 150,
   "id": "ae258876-7c82-4bdb-abd7-83479bbffc2f",
   "metadata": {},
   "outputs": [
    {
     "data": {
      "text/html": [
       "<style>#sk-container-id-7 {color: black;background-color: white;}#sk-container-id-7 pre{padding: 0;}#sk-container-id-7 div.sk-toggleable {background-color: white;}#sk-container-id-7 label.sk-toggleable__label {cursor: pointer;display: block;width: 100%;margin-bottom: 0;padding: 0.3em;box-sizing: border-box;text-align: center;}#sk-container-id-7 label.sk-toggleable__label-arrow:before {content: \"▸\";float: left;margin-right: 0.25em;color: #696969;}#sk-container-id-7 label.sk-toggleable__label-arrow:hover:before {color: black;}#sk-container-id-7 div.sk-estimator:hover label.sk-toggleable__label-arrow:before {color: black;}#sk-container-id-7 div.sk-toggleable__content {max-height: 0;max-width: 0;overflow: hidden;text-align: left;background-color: #f0f8ff;}#sk-container-id-7 div.sk-toggleable__content pre {margin: 0.2em;color: black;border-radius: 0.25em;background-color: #f0f8ff;}#sk-container-id-7 input.sk-toggleable__control:checked~div.sk-toggleable__content {max-height: 200px;max-width: 100%;overflow: auto;}#sk-container-id-7 input.sk-toggleable__control:checked~label.sk-toggleable__label-arrow:before {content: \"▾\";}#sk-container-id-7 div.sk-estimator input.sk-toggleable__control:checked~label.sk-toggleable__label {background-color: #d4ebff;}#sk-container-id-7 div.sk-label input.sk-toggleable__control:checked~label.sk-toggleable__label {background-color: #d4ebff;}#sk-container-id-7 input.sk-hidden--visually {border: 0;clip: rect(1px 1px 1px 1px);clip: rect(1px, 1px, 1px, 1px);height: 1px;margin: -1px;overflow: hidden;padding: 0;position: absolute;width: 1px;}#sk-container-id-7 div.sk-estimator {font-family: monospace;background-color: #f0f8ff;border: 1px dotted black;border-radius: 0.25em;box-sizing: border-box;margin-bottom: 0.5em;}#sk-container-id-7 div.sk-estimator:hover {background-color: #d4ebff;}#sk-container-id-7 div.sk-parallel-item::after {content: \"\";width: 100%;border-bottom: 1px solid gray;flex-grow: 1;}#sk-container-id-7 div.sk-label:hover label.sk-toggleable__label {background-color: #d4ebff;}#sk-container-id-7 div.sk-serial::before {content: \"\";position: absolute;border-left: 1px solid gray;box-sizing: border-box;top: 0;bottom: 0;left: 50%;z-index: 0;}#sk-container-id-7 div.sk-serial {display: flex;flex-direction: column;align-items: center;background-color: white;padding-right: 0.2em;padding-left: 0.2em;position: relative;}#sk-container-id-7 div.sk-item {position: relative;z-index: 1;}#sk-container-id-7 div.sk-parallel {display: flex;align-items: stretch;justify-content: center;background-color: white;position: relative;}#sk-container-id-7 div.sk-item::before, #sk-container-id-7 div.sk-parallel-item::before {content: \"\";position: absolute;border-left: 1px solid gray;box-sizing: border-box;top: 0;bottom: 0;left: 50%;z-index: -1;}#sk-container-id-7 div.sk-parallel-item {display: flex;flex-direction: column;z-index: 1;position: relative;background-color: white;}#sk-container-id-7 div.sk-parallel-item:first-child::after {align-self: flex-end;width: 50%;}#sk-container-id-7 div.sk-parallel-item:last-child::after {align-self: flex-start;width: 50%;}#sk-container-id-7 div.sk-parallel-item:only-child::after {width: 0;}#sk-container-id-7 div.sk-dashed-wrapped {border: 1px dashed gray;margin: 0 0.4em 0.5em 0.4em;box-sizing: border-box;padding-bottom: 0.4em;background-color: white;}#sk-container-id-7 div.sk-label label {font-family: monospace;font-weight: bold;display: inline-block;line-height: 1.2em;}#sk-container-id-7 div.sk-label-container {text-align: center;}#sk-container-id-7 div.sk-container {/* jupyter's `normalize.less` sets `[hidden] { display: none; }` but bootstrap.min.css set `[hidden] { display: none !important; }` so we also need the `!important` here to be able to override the default hidden behavior on the sphinx rendered scikit-learn.org. See: https://github.com/scikit-learn/scikit-learn/issues/21755 */display: inline-block !important;position: relative;}#sk-container-id-7 div.sk-text-repr-fallback {display: none;}</style><div id=\"sk-container-id-7\" class=\"sk-top-container\"><div class=\"sk-text-repr-fallback\"><pre>GridSearchCV(cv=5, error_score=&#x27;raise&#x27;,\n",
       "             estimator=Pipeline(steps=[(&#x27;preprocessor&#x27;,\n",
       "                                        ColumnTransformer(transformers=[(&#x27;numeric&#x27;,\n",
       "                                                                         Pipeline(steps=[(&#x27;poly&#x27;,\n",
       "                                                                                          PolynomialFeatures(include_bias=False)),\n",
       "                                                                                         (&#x27;scaler&#x27;,\n",
       "                                                                                          MinMaxScaler())]),\n",
       "                                                                         [&#x27;Gr &#x27;\n",
       "                                                                          &#x27;Liv &#x27;\n",
       "                                                                          &#x27;Area&#x27;,\n",
       "                                                                          &#x27;Total &#x27;\n",
       "                                                                          &#x27;Bsmt &#x27;\n",
       "                                                                          &#x27;SF&#x27;,\n",
       "                                                                          &#x27;Garage &#x27;\n",
       "                                                                          &#x27;Cars&#x27;,\n",
       "                                                                          &#x27;Garage &#x27;\n",
       "                                                                          &#x27;Area&#x27;,\n",
       "                                                                          &#x27;Year &#x27;\n",
       "                                                                          &#x27;Built&#x27;,\n",
       "                                                                          &#x27;Year &#x27;\n",
       "                                                                          &#x27;Remod/Add&#x27;,\n",
       "                                                                          &#x27;TotRms &#x27;\n",
       "                                                                          &#x27;AbvGrd&#x27;,\n",
       "                                                                          &#x27;Mas &#x27;\n",
       "                                                                          &#x27;Vnr &#x27;\n",
       "                                                                          &#x27;Area&#x27;,\n",
       "                                                                          &#x27;Fir...\n",
       "                                                                                          MinMaxScaler())]),\n",
       "                                                                         [&#x27;Overall &#x27;\n",
       "                                                                          &#x27;Qual&#x27;,\n",
       "                                                                          &#x27;Overall &#x27;\n",
       "                                                                          &#x27;Cond&#x27;,\n",
       "                                                                          &#x27;Exter &#x27;\n",
       "                                                                          &#x27;Qual&#x27;,\n",
       "                                                                          &#x27;Bsmt &#x27;\n",
       "                                                                          &#x27;Qual&#x27;,\n",
       "                                                                          &#x27;Heating &#x27;\n",
       "                                                                          &#x27;QC&#x27;,\n",
       "                                                                          &#x27;Kitchen &#x27;\n",
       "                                                                          &#x27;Qual&#x27;,\n",
       "                                                                          &#x27;Functional&#x27;,\n",
       "                                                                          &#x27;Electrical&#x27;,\n",
       "                                                                          &#x27;Garage &#x27;\n",
       "                                                                          &#x27;Qual&#x27;])])),\n",
       "                                       (&#x27;ttr_ridge_model&#x27;,\n",
       "                                        TransformedTargetRegressor(func=&lt;ufunc &#x27;log&#x27;&gt;,\n",
       "                                                                   inverse_func=&lt;ufunc &#x27;exp&#x27;&gt;,\n",
       "                                                                   regressor=Ridge()))]),\n",
       "             param_grid={&#x27;ttr_ridge_model__regressor__alpha&#x27;: [0.001, 0.1, 1]},\n",
       "             scoring=&#x27;r2&#x27;, verbose=1)</pre><b>In a Jupyter environment, please rerun this cell to show the HTML representation or trust the notebook. <br />On GitHub, the HTML representation is unable to render, please try loading this page with nbviewer.org.</b></div><div class=\"sk-container\" hidden><div class=\"sk-item sk-dashed-wrapped\"><div class=\"sk-label-container\"><div class=\"sk-label sk-toggleable\"><input class=\"sk-toggleable__control sk-hidden--visually\" id=\"sk-estimator-id-82\" type=\"checkbox\" ><label for=\"sk-estimator-id-82\" class=\"sk-toggleable__label sk-toggleable__label-arrow\">GridSearchCV</label><div class=\"sk-toggleable__content\"><pre>GridSearchCV(cv=5, error_score=&#x27;raise&#x27;,\n",
       "             estimator=Pipeline(steps=[(&#x27;preprocessor&#x27;,\n",
       "                                        ColumnTransformer(transformers=[(&#x27;numeric&#x27;,\n",
       "                                                                         Pipeline(steps=[(&#x27;poly&#x27;,\n",
       "                                                                                          PolynomialFeatures(include_bias=False)),\n",
       "                                                                                         (&#x27;scaler&#x27;,\n",
       "                                                                                          MinMaxScaler())]),\n",
       "                                                                         [&#x27;Gr &#x27;\n",
       "                                                                          &#x27;Liv &#x27;\n",
       "                                                                          &#x27;Area&#x27;,\n",
       "                                                                          &#x27;Total &#x27;\n",
       "                                                                          &#x27;Bsmt &#x27;\n",
       "                                                                          &#x27;SF&#x27;,\n",
       "                                                                          &#x27;Garage &#x27;\n",
       "                                                                          &#x27;Cars&#x27;,\n",
       "                                                                          &#x27;Garage &#x27;\n",
       "                                                                          &#x27;Area&#x27;,\n",
       "                                                                          &#x27;Year &#x27;\n",
       "                                                                          &#x27;Built&#x27;,\n",
       "                                                                          &#x27;Year &#x27;\n",
       "                                                                          &#x27;Remod/Add&#x27;,\n",
       "                                                                          &#x27;TotRms &#x27;\n",
       "                                                                          &#x27;AbvGrd&#x27;,\n",
       "                                                                          &#x27;Mas &#x27;\n",
       "                                                                          &#x27;Vnr &#x27;\n",
       "                                                                          &#x27;Area&#x27;,\n",
       "                                                                          &#x27;Fir...\n",
       "                                                                                          MinMaxScaler())]),\n",
       "                                                                         [&#x27;Overall &#x27;\n",
       "                                                                          &#x27;Qual&#x27;,\n",
       "                                                                          &#x27;Overall &#x27;\n",
       "                                                                          &#x27;Cond&#x27;,\n",
       "                                                                          &#x27;Exter &#x27;\n",
       "                                                                          &#x27;Qual&#x27;,\n",
       "                                                                          &#x27;Bsmt &#x27;\n",
       "                                                                          &#x27;Qual&#x27;,\n",
       "                                                                          &#x27;Heating &#x27;\n",
       "                                                                          &#x27;QC&#x27;,\n",
       "                                                                          &#x27;Kitchen &#x27;\n",
       "                                                                          &#x27;Qual&#x27;,\n",
       "                                                                          &#x27;Functional&#x27;,\n",
       "                                                                          &#x27;Electrical&#x27;,\n",
       "                                                                          &#x27;Garage &#x27;\n",
       "                                                                          &#x27;Qual&#x27;])])),\n",
       "                                       (&#x27;ttr_ridge_model&#x27;,\n",
       "                                        TransformedTargetRegressor(func=&lt;ufunc &#x27;log&#x27;&gt;,\n",
       "                                                                   inverse_func=&lt;ufunc &#x27;exp&#x27;&gt;,\n",
       "                                                                   regressor=Ridge()))]),\n",
       "             param_grid={&#x27;ttr_ridge_model__regressor__alpha&#x27;: [0.001, 0.1, 1]},\n",
       "             scoring=&#x27;r2&#x27;, verbose=1)</pre></div></div></div><div class=\"sk-parallel\"><div class=\"sk-parallel-item\"><div class=\"sk-item\"><div class=\"sk-label-container\"><div class=\"sk-label sk-toggleable\"><input class=\"sk-toggleable__control sk-hidden--visually\" id=\"sk-estimator-id-83\" type=\"checkbox\" ><label for=\"sk-estimator-id-83\" class=\"sk-toggleable__label sk-toggleable__label-arrow\">estimator: Pipeline</label><div class=\"sk-toggleable__content\"><pre>Pipeline(steps=[(&#x27;preprocessor&#x27;,\n",
       "                 ColumnTransformer(transformers=[(&#x27;numeric&#x27;,\n",
       "                                                  Pipeline(steps=[(&#x27;poly&#x27;,\n",
       "                                                                   PolynomialFeatures(include_bias=False)),\n",
       "                                                                  (&#x27;scaler&#x27;,\n",
       "                                                                   MinMaxScaler())]),\n",
       "                                                  [&#x27;Gr Liv Area&#x27;,\n",
       "                                                   &#x27;Total Bsmt SF&#x27;,\n",
       "                                                   &#x27;Garage Cars&#x27;, &#x27;Garage Area&#x27;,\n",
       "                                                   &#x27;Year Built&#x27;,\n",
       "                                                   &#x27;Year Remod/Add&#x27;,\n",
       "                                                   &#x27;TotRms AbvGrd&#x27;,\n",
       "                                                   &#x27;Mas Vnr Area&#x27;, &#x27;Fireplaces&#x27;,\n",
       "                                                   &#x27;Lot Frontage&#x27;, &#x27;Lot Area&#x27;,\n",
       "                                                   &#x27;porch_deck_sqft&#x27;,\n",
       "                                                   &#x27;all_baths_count&#x27;])...\n",
       "                                                                                               &#x27;Min1&#x27;,\n",
       "                                                                                               &#x27;Typ&#x27;],\n",
       "                                                                                              [&#x27;Mix&#x27;,\n",
       "                                                                                               &#x27;FuseP&#x27;,\n",
       "                                                                                               &#x27;FuseF&#x27;,\n",
       "                                                                                               &#x27;FuseA&#x27;,\n",
       "                                                                                               &#x27;SBrkr&#x27;],\n",
       "                                                                                              [&#x27;NA&#x27;,\n",
       "                                                                                               &#x27;Po&#x27;,\n",
       "                                                                                               &#x27;Fa&#x27;,\n",
       "                                                                                               &#x27;TA&#x27;,\n",
       "                                                                                               &#x27;Gd&#x27;,\n",
       "                                                                                               &#x27;Ex&#x27;]])),\n",
       "                                                                  (&#x27;scaler&#x27;,\n",
       "                                                                   MinMaxScaler())]),\n",
       "                                                  [&#x27;Overall Qual&#x27;,\n",
       "                                                   &#x27;Overall Cond&#x27;, &#x27;Exter Qual&#x27;,\n",
       "                                                   &#x27;Bsmt Qual&#x27;, &#x27;Heating QC&#x27;,\n",
       "                                                   &#x27;Kitchen Qual&#x27;, &#x27;Functional&#x27;,\n",
       "                                                   &#x27;Electrical&#x27;,\n",
       "                                                   &#x27;Garage Qual&#x27;])])),\n",
       "                (&#x27;ttr_ridge_model&#x27;,\n",
       "                 TransformedTargetRegressor(func=&lt;ufunc &#x27;log&#x27;&gt;,\n",
       "                                            inverse_func=&lt;ufunc &#x27;exp&#x27;&gt;,\n",
       "                                            regressor=Ridge()))])</pre></div></div></div><div class=\"sk-serial\"><div class=\"sk-item\"><div class=\"sk-serial\"><div class=\"sk-item sk-dashed-wrapped\"><div class=\"sk-label-container\"><div class=\"sk-label sk-toggleable\"><input class=\"sk-toggleable__control sk-hidden--visually\" id=\"sk-estimator-id-84\" type=\"checkbox\" ><label for=\"sk-estimator-id-84\" class=\"sk-toggleable__label sk-toggleable__label-arrow\">preprocessor: ColumnTransformer</label><div class=\"sk-toggleable__content\"><pre>ColumnTransformer(transformers=[(&#x27;numeric&#x27;,\n",
       "                                 Pipeline(steps=[(&#x27;poly&#x27;,\n",
       "                                                  PolynomialFeatures(include_bias=False)),\n",
       "                                                 (&#x27;scaler&#x27;, MinMaxScaler())]),\n",
       "                                 [&#x27;Gr Liv Area&#x27;, &#x27;Total Bsmt SF&#x27;, &#x27;Garage Cars&#x27;,\n",
       "                                  &#x27;Garage Area&#x27;, &#x27;Year Built&#x27;, &#x27;Year Remod/Add&#x27;,\n",
       "                                  &#x27;TotRms AbvGrd&#x27;, &#x27;Mas Vnr Area&#x27;, &#x27;Fireplaces&#x27;,\n",
       "                                  &#x27;Lot Frontage&#x27;, &#x27;Lot Area&#x27;, &#x27;porch_deck_sqft&#x27;,\n",
       "                                  &#x27;all_baths_count&#x27;]),\n",
       "                                (&#x27;nominal&#x27;,\n",
       "                                 Pipeline(steps=[(&#x27;on...\n",
       "                                                                              &#x27;Fa&#x27;,\n",
       "                                                                              &#x27;TA&#x27;,\n",
       "                                                                              &#x27;Gd&#x27;,\n",
       "                                                                              &#x27;Ex&#x27;],\n",
       "                                                                             [&#x27;Po&#x27;,\n",
       "                                                                              &#x27;Fa&#x27;,\n",
       "                                                                              &#x27;TA&#x27;,\n",
       "                                                                              &#x27;Gd&#x27;,\n",
       "                                                                              &#x27;Ex&#x27;],\n",
       "                                                                             [&#x27;Po&#x27;,\n",
       "                                                                              &#x27;Fa&#x27;,\n",
       "                                                                              &#x27;TA&#x27;,\n",
       "                                                                              &#x27;Gd&#x27;,\n",
       "                                                                              &#x27;Ex&#x27;],\n",
       "                                                                             [&#x27;Sal&#x27;,\n",
       "                                                                              &#x27;Sev&#x27;,\n",
       "                                                                              &#x27;Maj2&#x27;,\n",
       "                                                                              &#x27;Maj1&#x27;,\n",
       "                                                                              &#x27;Mod&#x27;,\n",
       "                                                                              &#x27;Min2&#x27;,\n",
       "                                                                              &#x27;Min1&#x27;,\n",
       "                                                                              &#x27;Typ&#x27;],\n",
       "                                                                             [&#x27;Mix&#x27;,\n",
       "                                                                              &#x27;FuseP&#x27;,\n",
       "                                                                              &#x27;FuseF&#x27;,\n",
       "                                                                              &#x27;FuseA&#x27;,\n",
       "                                                                              &#x27;SBrkr&#x27;],\n",
       "                                                                             [&#x27;NA&#x27;,\n",
       "                                                                              &#x27;Po&#x27;,\n",
       "                                                                              &#x27;Fa&#x27;,\n",
       "                                                                              &#x27;TA&#x27;,\n",
       "                                                                              &#x27;Gd&#x27;,\n",
       "                                                                              &#x27;Ex&#x27;]])),\n",
       "                                                 (&#x27;scaler&#x27;, MinMaxScaler())]),\n",
       "                                 [&#x27;Overall Qual&#x27;, &#x27;Overall Cond&#x27;, &#x27;Exter Qual&#x27;,\n",
       "                                  &#x27;Bsmt Qual&#x27;, &#x27;Heating QC&#x27;, &#x27;Kitchen Qual&#x27;,\n",
       "                                  &#x27;Functional&#x27;, &#x27;Electrical&#x27;, &#x27;Garage Qual&#x27;])])</pre></div></div></div><div class=\"sk-parallel\"><div class=\"sk-parallel-item\"><div class=\"sk-item\"><div class=\"sk-label-container\"><div class=\"sk-label sk-toggleable\"><input class=\"sk-toggleable__control sk-hidden--visually\" id=\"sk-estimator-id-85\" type=\"checkbox\" ><label for=\"sk-estimator-id-85\" class=\"sk-toggleable__label sk-toggleable__label-arrow\">numeric</label><div class=\"sk-toggleable__content\"><pre>[&#x27;Gr Liv Area&#x27;, &#x27;Total Bsmt SF&#x27;, &#x27;Garage Cars&#x27;, &#x27;Garage Area&#x27;, &#x27;Year Built&#x27;, &#x27;Year Remod/Add&#x27;, &#x27;TotRms AbvGrd&#x27;, &#x27;Mas Vnr Area&#x27;, &#x27;Fireplaces&#x27;, &#x27;Lot Frontage&#x27;, &#x27;Lot Area&#x27;, &#x27;porch_deck_sqft&#x27;, &#x27;all_baths_count&#x27;]</pre></div></div></div><div class=\"sk-serial\"><div class=\"sk-item\"><div class=\"sk-serial\"><div class=\"sk-item\"><div class=\"sk-estimator sk-toggleable\"><input class=\"sk-toggleable__control sk-hidden--visually\" id=\"sk-estimator-id-86\" type=\"checkbox\" ><label for=\"sk-estimator-id-86\" class=\"sk-toggleable__label sk-toggleable__label-arrow\">PolynomialFeatures</label><div class=\"sk-toggleable__content\"><pre>PolynomialFeatures(include_bias=False)</pre></div></div></div><div class=\"sk-item\"><div class=\"sk-estimator sk-toggleable\"><input class=\"sk-toggleable__control sk-hidden--visually\" id=\"sk-estimator-id-87\" type=\"checkbox\" ><label for=\"sk-estimator-id-87\" class=\"sk-toggleable__label sk-toggleable__label-arrow\">MinMaxScaler</label><div class=\"sk-toggleable__content\"><pre>MinMaxScaler()</pre></div></div></div></div></div></div></div></div><div class=\"sk-parallel-item\"><div class=\"sk-item\"><div class=\"sk-label-container\"><div class=\"sk-label sk-toggleable\"><input class=\"sk-toggleable__control sk-hidden--visually\" id=\"sk-estimator-id-88\" type=\"checkbox\" ><label for=\"sk-estimator-id-88\" class=\"sk-toggleable__label sk-toggleable__label-arrow\">nominal</label><div class=\"sk-toggleable__content\"><pre>[&#x27;Neighborhood&#x27;, &#x27;MS Zoning&#x27;, &#x27;Bldg Type&#x27;, &#x27;Mas Vnr Type&#x27;, &#x27;House Style&#x27;, &#x27;Foundation&#x27;, &#x27;Sale Type&#x27;]</pre></div></div></div><div class=\"sk-serial\"><div class=\"sk-item\"><div class=\"sk-serial\"><div class=\"sk-item\"><div class=\"sk-estimator sk-toggleable\"><input class=\"sk-toggleable__control sk-hidden--visually\" id=\"sk-estimator-id-89\" type=\"checkbox\" ><label for=\"sk-estimator-id-89\" class=\"sk-toggleable__label sk-toggleable__label-arrow\">OneHotEncoder</label><div class=\"sk-toggleable__content\"><pre>OneHotEncoder(handle_unknown=&#x27;ignore&#x27;)</pre></div></div></div></div></div></div></div></div><div class=\"sk-parallel-item\"><div class=\"sk-item\"><div class=\"sk-label-container\"><div class=\"sk-label sk-toggleable\"><input class=\"sk-toggleable__control sk-hidden--visually\" id=\"sk-estimator-id-90\" type=\"checkbox\" ><label for=\"sk-estimator-id-90\" class=\"sk-toggleable__label sk-toggleable__label-arrow\">ordinal</label><div class=\"sk-toggleable__content\"><pre>[&#x27;Overall Qual&#x27;, &#x27;Overall Cond&#x27;, &#x27;Exter Qual&#x27;, &#x27;Bsmt Qual&#x27;, &#x27;Heating QC&#x27;, &#x27;Kitchen Qual&#x27;, &#x27;Functional&#x27;, &#x27;Electrical&#x27;, &#x27;Garage Qual&#x27;]</pre></div></div></div><div class=\"sk-serial\"><div class=\"sk-item\"><div class=\"sk-serial\"><div class=\"sk-item\"><div class=\"sk-estimator sk-toggleable\"><input class=\"sk-toggleable__control sk-hidden--visually\" id=\"sk-estimator-id-91\" type=\"checkbox\" ><label for=\"sk-estimator-id-91\" class=\"sk-toggleable__label sk-toggleable__label-arrow\">OrdinalEncoder</label><div class=\"sk-toggleable__content\"><pre>OrdinalEncoder(categories=[[&#x27;1&#x27;, &#x27;2&#x27;, &#x27;3&#x27;, &#x27;4&#x27;, &#x27;5&#x27;, &#x27;6&#x27;, &#x27;7&#x27;, &#x27;8&#x27;, &#x27;9&#x27;, &#x27;10&#x27;],\n",
       "                           [&#x27;1&#x27;, &#x27;2&#x27;, &#x27;3&#x27;, &#x27;4&#x27;, &#x27;5&#x27;, &#x27;6&#x27;, &#x27;7&#x27;, &#x27;8&#x27;, &#x27;9&#x27;, &#x27;10&#x27;],\n",
       "                           [&#x27;Po&#x27;, &#x27;Fa&#x27;, &#x27;TA&#x27;, &#x27;Gd&#x27;, &#x27;Ex&#x27;],\n",
       "                           [&#x27;NA&#x27;, &#x27;Po&#x27;, &#x27;Fa&#x27;, &#x27;TA&#x27;, &#x27;Gd&#x27;, &#x27;Ex&#x27;],\n",
       "                           [&#x27;Po&#x27;, &#x27;Fa&#x27;, &#x27;TA&#x27;, &#x27;Gd&#x27;, &#x27;Ex&#x27;],\n",
       "                           [&#x27;Po&#x27;, &#x27;Fa&#x27;, &#x27;TA&#x27;, &#x27;Gd&#x27;, &#x27;Ex&#x27;],\n",
       "                           [&#x27;Sal&#x27;, &#x27;Sev&#x27;, &#x27;Maj2&#x27;, &#x27;Maj1&#x27;, &#x27;Mod&#x27;, &#x27;Min2&#x27;, &#x27;Min1&#x27;,\n",
       "                            &#x27;Typ&#x27;],\n",
       "                           [&#x27;Mix&#x27;, &#x27;FuseP&#x27;, &#x27;FuseF&#x27;, &#x27;FuseA&#x27;, &#x27;SBrkr&#x27;],\n",
       "                           [&#x27;NA&#x27;, &#x27;Po&#x27;, &#x27;Fa&#x27;, &#x27;TA&#x27;, &#x27;Gd&#x27;, &#x27;Ex&#x27;]])</pre></div></div></div><div class=\"sk-item\"><div class=\"sk-estimator sk-toggleable\"><input class=\"sk-toggleable__control sk-hidden--visually\" id=\"sk-estimator-id-92\" type=\"checkbox\" ><label for=\"sk-estimator-id-92\" class=\"sk-toggleable__label sk-toggleable__label-arrow\">MinMaxScaler</label><div class=\"sk-toggleable__content\"><pre>MinMaxScaler()</pre></div></div></div></div></div></div></div></div></div></div><div class=\"sk-item sk-dashed-wrapped\"><div class=\"sk-label-container\"><div class=\"sk-label sk-toggleable\"><input class=\"sk-toggleable__control sk-hidden--visually\" id=\"sk-estimator-id-93\" type=\"checkbox\" ><label for=\"sk-estimator-id-93\" class=\"sk-toggleable__label sk-toggleable__label-arrow\">ttr_ridge_model: TransformedTargetRegressor</label><div class=\"sk-toggleable__content\"><pre>TransformedTargetRegressor(func=&lt;ufunc &#x27;log&#x27;&gt;, inverse_func=&lt;ufunc &#x27;exp&#x27;&gt;,\n",
       "                           regressor=Ridge())</pre></div></div></div><div class=\"sk-parallel\"><div class=\"sk-parallel-item\"><div class=\"sk-item\"><div class=\"sk-label-container\"><div class=\"sk-label sk-toggleable\"><input class=\"sk-toggleable__control sk-hidden--visually\" id=\"sk-estimator-id-94\" type=\"checkbox\" ><label for=\"sk-estimator-id-94\" class=\"sk-toggleable__label sk-toggleable__label-arrow\">regressor: Ridge</label><div class=\"sk-toggleable__content\"><pre>Ridge()</pre></div></div></div><div class=\"sk-serial\"><div class=\"sk-item\"><div class=\"sk-estimator sk-toggleable\"><input class=\"sk-toggleable__control sk-hidden--visually\" id=\"sk-estimator-id-95\" type=\"checkbox\" ><label for=\"sk-estimator-id-95\" class=\"sk-toggleable__label sk-toggleable__label-arrow\">Ridge</label><div class=\"sk-toggleable__content\"><pre>Ridge()</pre></div></div></div></div></div></div></div></div></div></div></div></div></div></div></div></div></div>"
      ],
      "text/plain": [
       "GridSearchCV(cv=5, error_score='raise',\n",
       "             estimator=Pipeline(steps=[('preprocessor',\n",
       "                                        ColumnTransformer(transformers=[('numeric',\n",
       "                                                                         Pipeline(steps=[('poly',\n",
       "                                                                                          PolynomialFeatures(include_bias=False)),\n",
       "                                                                                         ('scaler',\n",
       "                                                                                          MinMaxScaler())]),\n",
       "                                                                         ['Gr '\n",
       "                                                                          'Liv '\n",
       "                                                                          'Area',\n",
       "                                                                          'Total '\n",
       "                                                                          'Bsmt '\n",
       "                                                                          'SF',\n",
       "                                                                          'Garage '\n",
       "                                                                          'Cars',\n",
       "                                                                          'Garage '\n",
       "                                                                          'Area',\n",
       "                                                                          'Year '\n",
       "                                                                          'Built',\n",
       "                                                                          'Year '\n",
       "                                                                          'Remod/Add',\n",
       "                                                                          'TotRms '\n",
       "                                                                          'AbvGrd',\n",
       "                                                                          'Mas '\n",
       "                                                                          'Vnr '\n",
       "                                                                          'Area',\n",
       "                                                                          'Fir...\n",
       "                                                                                          MinMaxScaler())]),\n",
       "                                                                         ['Overall '\n",
       "                                                                          'Qual',\n",
       "                                                                          'Overall '\n",
       "                                                                          'Cond',\n",
       "                                                                          'Exter '\n",
       "                                                                          'Qual',\n",
       "                                                                          'Bsmt '\n",
       "                                                                          'Qual',\n",
       "                                                                          'Heating '\n",
       "                                                                          'QC',\n",
       "                                                                          'Kitchen '\n",
       "                                                                          'Qual',\n",
       "                                                                          'Functional',\n",
       "                                                                          'Electrical',\n",
       "                                                                          'Garage '\n",
       "                                                                          'Qual'])])),\n",
       "                                       ('ttr_ridge_model',\n",
       "                                        TransformedTargetRegressor(func=<ufunc 'log'>,\n",
       "                                                                   inverse_func=<ufunc 'exp'>,\n",
       "                                                                   regressor=Ridge()))]),\n",
       "             param_grid={'ttr_ridge_model__regressor__alpha': [0.001, 0.1, 1]},\n",
       "             scoring='r2', verbose=1)"
      ]
     },
     "execution_count": 150,
     "metadata": {},
     "output_type": "execute_result"
    }
   ],
   "source": [
    "gridsearchcv"
   ]
  },
  {
   "cell_type": "code",
   "execution_count": 151,
   "id": "a8fa291f-6de5-400f-9b07-703e314daf5f",
   "metadata": {},
   "outputs": [
    {
     "name": "stdout",
     "output_type": "stream",
     "text": [
      "Fitting 5 folds for each of 3 candidates, totalling 15 fits\n"
     ]
    }
   ],
   "source": [
    "#fit gridsearchcv to train set:\n",
    "gridsearchcv.fit(X_train, y_train);"
   ]
  },
  {
   "cell_type": "markdown",
   "id": "9d7ed1f8-5e8f-4c2a-b475-8594379caeec",
   "metadata": {},
   "source": [
    "### check model parameters & evaluate model"
   ]
  },
  {
   "cell_type": "code",
   "execution_count": 155,
   "id": "6ae0c5ce-738d-4720-8b1c-8b82ee4d61e3",
   "metadata": {},
   "outputs": [],
   "source": [
    "# use the grid_model to make predictions using X_test_scaled\n",
    "# note that this is still a subset of train.csv and not the test.csv\n",
    "y_predictions = gridsearchcv.predict(X_test)\n",
    "# y_predictions"
   ]
  },
  {
   "cell_type": "code",
   "execution_count": 156,
   "id": "57fad3f0-9c5a-440a-ad16-7e38e9c6dcce",
   "metadata": {},
   "outputs": [
    {
     "name": "stdout",
     "output_type": "stream",
     "text": [
      "Best parameters: {'ttr_ridge_model__regressor__alpha': 1}\n",
      "Best R^2 score: 0.9239076832137627\n"
     ]
    }
   ],
   "source": [
    "print(\"Best parameters:\", gridsearchcv.best_params_)\n",
    "print(\"Best R^2 score:\", gridsearchcv.best_score_)"
   ]
  },
  {
   "cell_type": "code",
   "execution_count": 161,
   "id": "167c7f86-c0c0-4c81-aa91-4b99761477d9",
   "metadata": {},
   "outputs": [
    {
     "name": "stdout",
     "output_type": "stream",
     "text": [
      "RMSE: 20379.55073159024\n",
      "Average SalePrice: 181061.9934980494\n"
     ]
    }
   ],
   "source": [
    "# RMSE and average SalePrice\n",
    "print('RMSE:', np.sqrt(mean_squared_error(y_test,y_predictions)))\n",
    "print('Average SalePrice:', np.mean(train['SalePrice']))"
   ]
  },
  {
   "cell_type": "markdown",
   "id": "5610a890-7109-4c53-8335-37f10d4bfc55",
   "metadata": {},
   "source": [
    "## Regression Model Plot"
   ]
  },
  {
   "cell_type": "code",
   "execution_count": 174,
   "id": "8a1d324d-f728-4cc3-bf90-9f377adcb78d",
   "metadata": {},
   "outputs": [
    {
     "data": {
      "image/png": "[encoded data removed]",
      "text/plain": [
       "<Figure size 1200x600 with 1 Axes>"
      ]
     },
     "metadata": {},
     "output_type": "display_data"
    }
   ],
   "source": [
    "# Create a histogram of the actual sale prices\n",
    "plt.figure(figsize=(12,6))\n",
    "sns.histplot(y_test, bins=30, kde=False, color='lightblue', label='Actual Sale Prices', stat=\"density\")\n",
    "\n",
    "# Plot the predicted sale prices as a density plot (smooth curve)\n",
    "sns.kdeplot(y_predictions, color='red', label='Predicted Sale Prices')\n",
    "\n",
    "# Adding labels and legend\n",
    "plt.xlabel('Sale Price')\n",
    "plt.ylabel('Density')\n",
    "plt.title('Actual \"SalePrice\" vs Predicted \"SalePrice\" Based on Selected Features (RMSE = $22,864 and R-squared = 0.92) ', fontsize = 14)\n",
    "plt.legend()\n",
    "\n",
    "plt.savefig('../images/Actual_salePrice_vs_Prediction_All_Features.png', dpi=300)\n",
    "plt.show()"
   ]
  },
  {
   "cell_type": "markdown",
   "id": "ef5398e1-e2fb-4c0c-bbf1-ca83316ac767",
   "metadata": {},
   "source": [
    "## Making Predictions on 'test.csv' for kaggle competition"
   ]
  },
  {
   "cell_type": "markdown",
   "id": "acc25cb8-7578-4295-bd86-b8a775cf47f2",
   "metadata": {},
   "source": [
    "- In order to make predictions on 'test.csv', I need to process the dataframe to use as input to the model.\n",
    "- apply preprocessing() to train dataframe to clean the data\n",
    "- trim down the dataframe to only contain selected numeric, nominal, and ordinal features\n",
    "- Note that there is no \"SalePrice\" in the test.csv"
   ]
  },
  {
   "cell_type": "code",
   "execution_count": 165,
   "id": "4a9d6700-9701-47e8-8c1b-f9df7d0e1c1d",
   "metadata": {},
   "outputs": [
    {
     "data": {
      "text/plain": [
       "(513, 29)"
      ]
     },
     "execution_count": 165,
     "metadata": {},
     "output_type": "execute_result"
    }
   ],
   "source": [
    "test_preprocessed = preprocessing(test)\n",
    "test_trimmed = test_preprocessed[numeric_features + nominal_features + ordinal_features]\n",
    "test_trimmed.shape"
   ]
  },
  {
   "cell_type": "code",
   "execution_count": 166,
   "id": "99dc6550-199a-4448-9b07-1ddbf276be33",
   "metadata": {},
   "outputs": [
    {
     "data": {
      "text/plain": [
       "Gr Liv Area        0\n",
       "Total Bsmt SF      0\n",
       "Garage Cars        0\n",
       "Garage Area        0\n",
       "Year Built         0\n",
       "Year Remod/Add     0\n",
       "TotRms AbvGrd      0\n",
       "Mas Vnr Area       0\n",
       "Fireplaces         0\n",
       "Lot Frontage       0\n",
       "Lot Area           0\n",
       "porch_deck_sqft    0\n",
       "all_baths_count    0\n",
       "Neighborhood       0\n",
       "MS Zoning          0\n",
       "Bldg Type          0\n",
       "Mas Vnr Type       0\n",
       "House Style        0\n",
       "Foundation         0\n",
       "Sale Type          0\n",
       "Overall Qual       0\n",
       "Overall Cond       0\n",
       "Exter Qual         0\n",
       "Bsmt Qual          0\n",
       "Heating QC         0\n",
       "Kitchen Qual       0\n",
       "Functional         0\n",
       "Electrical         0\n",
       "Garage Qual        0\n",
       "dtype: int64"
      ]
     },
     "execution_count": 166,
     "metadata": {},
     "output_type": "execute_result"
    }
   ],
   "source": [
    "#verify that there are no nulls:\n",
    "test_trimmed.isnull().sum()"
   ]
  },
  {
   "cell_type": "code",
   "execution_count": 171,
   "id": "328ceb67-11d0-47de-b78b-e8a9e6b07dac",
   "metadata": {},
   "outputs": [
    {
     "data": {
      "text/plain": [
       "array([122155.26839502, 223300.74290709, 272555.76908134, 123257.84091444,\n",
       "       208323.14995856, 364828.40224729, 160461.84141782, 281936.97266037,\n",
       "       158538.79300405,  83114.28848129])"
      ]
     },
     "execution_count": 171,
     "metadata": {},
     "output_type": "execute_result"
    }
   ],
   "source": [
    "# make predictions by fitting the gridsearchcv model to test_trimmed dataframe\n",
    "test_preds = gridsearchcv.predict(test_trimmed)\n",
    "\n",
    "# first 10 predictions look accurate.\n",
    "test_preds[:10]"
   ]
  },
  {
   "cell_type": "code",
   "execution_count": 86,
   "id": "47d5a105-11a3-44b8-bd41-f2e7bee6bb4b",
   "metadata": {},
   "outputs": [
    {
     "name": "stdout",
     "output_type": "stream",
     "text": [
      "(513, 29)\n",
      "(513,)\n"
     ]
    }
   ],
   "source": [
    "#verify that the number of rows are the same:\n",
    "print(test_trimmed.shape)\n",
    "print(test_preds.shape)"
   ]
  },
  {
   "cell_type": "code",
   "execution_count": 173,
   "id": "30137c97-7531-459b-ac60-61f4b5d07956",
   "metadata": {},
   "outputs": [],
   "source": [
    "# add \"Unnamed: 0\" column along with the \"SalePrice\" predictions.\n",
    "kaggle_submission_5_polyminmax_params = pd.DataFrame({\n",
    "    'Unnamed: 0': test['Unnamed: 0'],\n",
    "    'SalePrice': test_preds\n",
    "}).set_index('Unnamed: 0')\n",
    "\n",
    "# save to csv for the kaggle submittion\n",
    "kaggle_submission_5_polyminmax_params.to_csv('../datasets/an_kaggle_submission_5_polyminmax_params.csv')"
   ]
  },
  {
   "cell_type": "code",
   "execution_count": null,
   "id": "04a87c25-f014-4a63-ae66-759783c802cc",
   "metadata": {},
   "outputs": [],
   "source": []
  }
 ],
 "metadata": {
  "kernelspec": {
   "display_name": "Python 3 (ipykernel)",
   "language": "python",
   "name": "python3"
  },
  "language_info": {
   "codemirror_mode": {
    "name": "ipython",
    "version": 3
   },
   "file_extension": ".py",
   "mimetype": "text/x-python",
   "name": "python",
   "nbconvert_exporter": "python",
   "pygments_lexer": "ipython3",
   "version": "3.11.7"
  }
 },
 "nbformat": 4,
 "nbformat_minor": 5
}
