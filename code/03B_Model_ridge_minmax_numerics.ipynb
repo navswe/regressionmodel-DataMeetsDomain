{
 "cells": [
  {
   "cell_type": "markdown",
   "id": "f251bd6c-f12d-4bb7-a3df-c9ce2d08dc02",
   "metadata": {},
   "source": [
    "# 03B Modelling"
   ]
  },
  {
   "cell_type": "markdown",
   "id": "9f2b1c10-dab6-4858-899f-7ff82dac96f4",
   "metadata": {},
   "source": [
    "**Objective of this notebook is to generate a linear regression model using the selected numeric features only.\n",
    "The steps and parameters will remain the same as the full regression model that is trained on numeric, ordinal, and nominal features.**"
   ]
  },
  {
   "cell_type": "markdown",
   "id": "6e17eb82-1faa-4cab-b494-17e6b168ea38",
   "metadata": {},
   "source": [
    "### Import Libraries"
   ]
  },
  {
   "cell_type": "code",
   "execution_count": 1,
   "id": "3a120c46-8f18-43b1-b3ba-cad1ab0c753a",
   "metadata": {},
   "outputs": [],
   "source": [
    "import numpy as np\n",
    "import pandas as pd\n",
    "import seaborn as sns\n",
    "import matplotlib.pyplot as plt\n",
    "\n",
    "from sklearn.compose import ColumnTransformer, TransformedTargetRegressor\n",
    "\n",
    "from sklearn.preprocessing import MinMaxScaler, OneHotEncoder, OrdinalEncoder, PolynomialFeatures\n",
    "\n",
    "from sklearn.model_selection import train_test_split, GridSearchCV\n",
    "\n",
    "from sklearn.pipeline import Pipeline\n",
    "\n",
    "from sklearn.linear_model import LinearRegression,  Ridge\n",
    "\n",
    "from sklearn.metrics import mean_squared_error"
   ]
  },
  {
   "cell_type": "code",
   "execution_count": 2,
   "id": "461ba574-8711-4648-9156-036660223435",
   "metadata": {},
   "outputs": [],
   "source": [
    "# apply a plot style\n",
    "plt.style.use('bmh')"
   ]
  },
  {
   "cell_type": "markdown",
   "id": "ad84f4a4-72b4-42ef-b651-9a920abbdc4c",
   "metadata": {},
   "source": [
    "### Read The Datasets"
   ]
  },
  {
   "cell_type": "code",
   "execution_count": 3,
   "id": "34c0b0b9-63ed-48de-8658-fda2311f20dc",
   "metadata": {},
   "outputs": [],
   "source": [
    "train = pd.read_csv('../datasets/train.csv')\n",
    "test = pd.read_csv('../datasets/test.csv')"
   ]
  },
  {
   "cell_type": "code",
   "execution_count": 4,
   "id": "abcd3a90-a3e7-41c4-a6bc-fc3a618df6f9",
   "metadata": {},
   "outputs": [
    {
     "name": "stdout",
     "output_type": "stream",
     "text": [
      "(1538, 82)\n",
      "(513, 81)\n"
     ]
    }
   ],
   "source": [
    "print(train.shape)\n",
    "print(test.shape)"
   ]
  },
  {
   "cell_type": "markdown",
   "id": "8c125407-2ba7-4825-8aa8-fd6be2084411",
   "metadata": {},
   "source": [
    "### Preprocessing Data"
   ]
  },
  {
   "cell_type": "markdown",
   "id": "d92d97b6-0462-4617-8ecf-b2b2c393f393",
   "metadata": {},
   "source": [
    "- apply preprocessing() to train dataframe to clean the data\n",
    "- trim down the dataframe to only contain selected numeric features"
   ]
  },
  {
   "cell_type": "code",
   "execution_count": 5,
   "id": "18504e88-06be-42d9-8b6c-561c673c83ea",
   "metadata": {},
   "outputs": [],
   "source": [
    "#trim down the data columns to only the numeric features:\n",
    "numeric_features = ['Gr Liv Area', 'Total Bsmt SF', 'Garage Cars', 'Garage Area', \n",
    "                'Year Built', 'Year Remod/Add', 'TotRms AbvGrd', 'Mas Vnr Area', 'Fireplaces', 'Lot Frontage',\n",
    "                'Lot Area', 'porch_deck_sqft', 'all_baths_count']"
   ]
  },
  {
   "cell_type": "code",
   "execution_count": 7,
   "id": "39d26a82-00b4-4e81-ba1c-2c71122a99fc",
   "metadata": {},
   "outputs": [],
   "source": [
    "def preprocessing(df):\n",
    "    ''' This function takes in a dataframe containing the Ames Housing dataset and preprocess it for regression models.'''\n",
    "\n",
    "    #There are 2 outliers identified in EDA based on scatterplot of 'Gr Liv Area' vs. \"SalePrice\".\n",
    "    #Drop these outliers\n",
    "    drop_rows_GrLivArea_outliers = df[(df['Gr Liv Area'] > 4000)].index\n",
    "    df = df.drop(drop_rows_GrLivArea_outliers, axis =0)\n",
    "        \n",
    "    #NUMERIC DATA TYPES\n",
    "    # Creating 'porch_deck_sqft' by summing all porch and deck square footage columns\n",
    "    porch_and_deck_features = ['Wood Deck SF', 'Open Porch SF', 'Enclosed Porch', 'Screen Porch', '3Ssn Porch']\n",
    "    df['porch_deck_sqft'] = df[porch_and_deck_features].sum(axis=1)\n",
    "    \n",
    "    # Creating 'all_baths_count' by summing all types of bathrooms\n",
    "    bath_features = ['Bsmt Full Bath', 'Bsmt Half Bath', 'Half Bath', 'Full Bath']\n",
    "    df['all_baths_count'] = df[bath_features].sum(axis=1)\n",
    "    \n",
    "    # fill in missing values in the following numeric features with 0\n",
    "    df['Total Bsmt SF'].fillna(0, inplace = True)\n",
    "    df['Mas Vnr Area'].fillna(0, inplace = True)\n",
    "    df['Garage Cars'].fillna(0, inplace = True)\n",
    "    df['Garage Area'].fillna(0, inplace = True)\n",
    "    \n",
    "    \n",
    "    #go through the dataframe, and if there is a missing value in \"Lot Frontage\", fill in with the mean of \"Lot Frontage\" that is groupby \"Neighborhood\"\n",
    "    df['Lot Frontage'] = df.groupby(\"Neighborhood\")['Lot Frontage'].transform(lambda value : value.fillna(value.mean()))\n",
    "    #if there are still NaN values, just drop the row:\n",
    "    df.dropna(subset=['Lot Frontage'], inplace=True)   \n",
    "    \n",
    "    #STRING OBJECT DATA TYPES\n",
    "    # fill in NaNs in \"Mas Vnr Type\", which records the masonry veneer type (nominal), and one of the options is \"None\".\n",
    "    df['Mas Vnr Type'].fillna('None', inplace = True)\n",
    "    \n",
    "    # Fill in the NaNs in categorical garage features with \"No Garage\"\n",
    "    df['Garage Qual'].fillna('NA', inplace = True)\n",
    "    \n",
    "    # Fill in the NaNs in categorical ordinal \"Bsmt Qual\" features with \"No Garage\"\n",
    "    df[\"Bsmt Qual\"].fillna('NA', inplace = True)\n",
    "\n",
    "    return df"
   ]
  },
  {
   "cell_type": "code",
   "execution_count": 12,
   "id": "c50707b4-066d-4984-af05-ceca7d0ad1fd",
   "metadata": {},
   "outputs": [
    {
     "data": {
      "text/html": [
       "<div>\n",
       "<style scoped>\n",
       "    .dataframe tbody tr th:only-of-type {\n",
       "        vertical-align: middle;\n",
       "    }\n",
       "\n",
       "    .dataframe tbody tr th {\n",
       "        vertical-align: top;\n",
       "    }\n",
       "\n",
       "    .dataframe thead th {\n",
       "        text-align: right;\n",
       "    }\n",
       "</style>\n",
       "<table border=\"1\" class=\"dataframe\">\n",
       "  <thead>\n",
       "    <tr style=\"text-align: right;\">\n",
       "      <th></th>\n",
       "      <th>Gr Liv Area</th>\n",
       "      <th>Total Bsmt SF</th>\n",
       "      <th>Garage Cars</th>\n",
       "      <th>Garage Area</th>\n",
       "      <th>Year Built</th>\n",
       "      <th>Year Remod/Add</th>\n",
       "      <th>TotRms AbvGrd</th>\n",
       "      <th>Mas Vnr Area</th>\n",
       "      <th>Fireplaces</th>\n",
       "      <th>Lot Frontage</th>\n",
       "      <th>Lot Area</th>\n",
       "      <th>porch_deck_sqft</th>\n",
       "      <th>all_baths_count</th>\n",
       "      <th>SalePrice</th>\n",
       "    </tr>\n",
       "  </thead>\n",
       "  <tbody>\n",
       "    <tr>\n",
       "      <th>0</th>\n",
       "      <td>1587</td>\n",
       "      <td>1587.0</td>\n",
       "      <td>2.0</td>\n",
       "      <td>525.0</td>\n",
       "      <td>1971</td>\n",
       "      <td>1971</td>\n",
       "      <td>7</td>\n",
       "      <td>302.0</td>\n",
       "      <td>1</td>\n",
       "      <td>85.000000</td>\n",
       "      <td>10667</td>\n",
       "      <td>44</td>\n",
       "      <td>2.0</td>\n",
       "      <td>167300</td>\n",
       "    </tr>\n",
       "    <tr>\n",
       "      <th>1</th>\n",
       "      <td>2267</td>\n",
       "      <td>1005.0</td>\n",
       "      <td>2.0</td>\n",
       "      <td>498.0</td>\n",
       "      <td>1937</td>\n",
       "      <td>1980</td>\n",
       "      <td>7</td>\n",
       "      <td>0.0</td>\n",
       "      <td>2</td>\n",
       "      <td>107.000000</td>\n",
       "      <td>12888</td>\n",
       "      <td>521</td>\n",
       "      <td>3.0</td>\n",
       "      <td>219000</td>\n",
       "    </tr>\n",
       "    <tr>\n",
       "      <th>2</th>\n",
       "      <td>864</td>\n",
       "      <td>864.0</td>\n",
       "      <td>2.0</td>\n",
       "      <td>720.0</td>\n",
       "      <td>1950</td>\n",
       "      <td>2002</td>\n",
       "      <td>5</td>\n",
       "      <td>0.0</td>\n",
       "      <td>0</td>\n",
       "      <td>60.000000</td>\n",
       "      <td>7200</td>\n",
       "      <td>194</td>\n",
       "      <td>2.0</td>\n",
       "      <td>129000</td>\n",
       "    </tr>\n",
       "    <tr>\n",
       "      <th>3</th>\n",
       "      <td>2260</td>\n",
       "      <td>1306.0</td>\n",
       "      <td>2.0</td>\n",
       "      <td>533.0</td>\n",
       "      <td>1996</td>\n",
       "      <td>1997</td>\n",
       "      <td>7</td>\n",
       "      <td>0.0</td>\n",
       "      <td>0</td>\n",
       "      <td>80.000000</td>\n",
       "      <td>14000</td>\n",
       "      <td>340</td>\n",
       "      <td>4.0</td>\n",
       "      <td>328000</td>\n",
       "    </tr>\n",
       "    <tr>\n",
       "      <th>4</th>\n",
       "      <td>2501</td>\n",
       "      <td>1242.0</td>\n",
       "      <td>3.0</td>\n",
       "      <td>751.0</td>\n",
       "      <td>1995</td>\n",
       "      <td>1995</td>\n",
       "      <td>9</td>\n",
       "      <td>466.0</td>\n",
       "      <td>1</td>\n",
       "      <td>88.733333</td>\n",
       "      <td>11929</td>\n",
       "      <td>279</td>\n",
       "      <td>3.0</td>\n",
       "      <td>290000</td>\n",
       "    </tr>\n",
       "  </tbody>\n",
       "</table>\n",
       "</div>"
      ],
      "text/plain": [
       "   Gr Liv Area  Total Bsmt SF  Garage Cars  Garage Area  Year Built  \\\n",
       "0         1587         1587.0          2.0        525.0        1971   \n",
       "1         2267         1005.0          2.0        498.0        1937   \n",
       "2          864          864.0          2.0        720.0        1950   \n",
       "3         2260         1306.0          2.0        533.0        1996   \n",
       "4         2501         1242.0          3.0        751.0        1995   \n",
       "\n",
       "   Year Remod/Add  TotRms AbvGrd  Mas Vnr Area  Fireplaces  Lot Frontage  \\\n",
       "0            1971              7         302.0           1     85.000000   \n",
       "1            1980              7           0.0           2    107.000000   \n",
       "2            2002              5           0.0           0     60.000000   \n",
       "3            1997              7           0.0           0     80.000000   \n",
       "4            1995              9         466.0           1     88.733333   \n",
       "\n",
       "   Lot Area  porch_deck_sqft  all_baths_count  SalePrice  \n",
       "0     10667               44              2.0     167300  \n",
       "1     12888              521              3.0     219000  \n",
       "2      7200              194              2.0     129000  \n",
       "3     14000              340              4.0     328000  \n",
       "4     11929              279              3.0     290000  "
      ]
     },
     "execution_count": 12,
     "metadata": {},
     "output_type": "execute_result"
    }
   ],
   "source": [
    "train_preprocessed = preprocessing(train)\n",
    "train_trimmed_numerics = train_preprocessed[numeric_features + ['SalePrice']]\n",
    "train_trimmed_numerics.head()"
   ]
  },
  {
   "cell_type": "code",
   "execution_count": 13,
   "id": "5ee8d2de-8a9f-4ecb-88e2-c548f3ec2481",
   "metadata": {},
   "outputs": [
    {
     "data": {
      "text/plain": [
       "Gr Liv Area        0\n",
       "Total Bsmt SF      0\n",
       "Garage Cars        0\n",
       "Garage Area        0\n",
       "Year Built         0\n",
       "Year Remod/Add     0\n",
       "TotRms AbvGrd      0\n",
       "Mas Vnr Area       0\n",
       "Fireplaces         0\n",
       "Lot Frontage       0\n",
       "Lot Area           0\n",
       "porch_deck_sqft    0\n",
       "all_baths_count    0\n",
       "SalePrice          0\n",
       "dtype: int64"
      ]
     },
     "execution_count": 13,
     "metadata": {},
     "output_type": "execute_result"
    }
   ],
   "source": [
    "# double check if there are any nulls left:\n",
    "train_trimmed_numerics.isnull().sum()"
   ]
  },
  {
   "cell_type": "markdown",
   "id": "6889552b-2482-4a17-b2fa-53f824bfc71e",
   "metadata": {},
   "source": [
    "### Feature Engineering"
   ]
  },
  {
   "cell_type": "code",
   "execution_count": 14,
   "id": "fe70ef7d-a265-49c5-a004-ba5b3412f288",
   "metadata": {},
   "outputs": [],
   "source": [
    "#separate the train set data into X features and y target\n",
    "X = train_trimmed_numerics.drop('SalePrice', axis =1)\n",
    "y = train_trimmed_numerics['SalePrice']"
   ]
  },
  {
   "cell_type": "code",
   "execution_count": 15,
   "id": "c0547a1c-d7e0-452d-861f-ca32db15e777",
   "metadata": {},
   "outputs": [],
   "source": [
    "# split up X and y into train set and test set\n",
    "X_train, X_test, y_train, y_test = train_test_split(X, y)"
   ]
  },
  {
   "cell_type": "code",
   "execution_count": 16,
   "id": "0f3b72d9-ec0c-4f78-8cc1-5bc4acd86c13",
   "metadata": {},
   "outputs": [
    {
     "name": "stdout",
     "output_type": "stream",
     "text": [
      "(1149, 13)\n",
      "(1149,)\n"
     ]
    }
   ],
   "source": [
    "# verify that the shapes are ok\n",
    "print(X_train.shape)\n",
    "print(y_train.shape)"
   ]
  },
  {
   "cell_type": "markdown",
   "id": "5a9ce896-a7f5-48f2-b6fe-d97db70ee558",
   "metadata": {},
   "source": [
    "### Transformer and Pipeline"
   ]
  },
  {
   "cell_type": "code",
   "execution_count": 17,
   "id": "d013465b-77d9-4e6a-a712-5a4864008eec",
   "metadata": {},
   "outputs": [],
   "source": [
    "# scale numeric_features using Polynomial MinMaxScaler()\n",
    "numeric_transformer = Pipeline(steps=[('poly', PolynomialFeatures(degree=2, include_bias = False)), # Start with degree=2,\n",
    "                                      ('scaler', MinMaxScaler())])\n",
    "\n",
    "# use ColumnTransformer to transform each feature based on the type (numeric, nominal, or ordinal)\n",
    "preprocessor = ColumnTransformer(\n",
    "    transformers=[\n",
    "        ('numeric', numeric_transformer, numeric_features)\n",
    "    ])"
   ]
  },
  {
   "cell_type": "markdown",
   "id": "19d6cc68-4345-47ad-88b5-aa932f12a6ca",
   "metadata": {},
   "source": [
    "### TransformTargetRegressor and Pipeline"
   ]
  },
  {
   "cell_type": "code",
   "execution_count": 18,
   "id": "7dec50f7-6658-47d4-a223-347168c37c6c",
   "metadata": {},
   "outputs": [],
   "source": [
    "# our function is log\n",
    "# our inverse function is np.exp\n",
    "ttr_ridge_model = TransformedTargetRegressor(Ridge(), func = np.log, inverse_func = np.exp)"
   ]
  },
  {
   "cell_type": "code",
   "execution_count": 19,
   "id": "d630a3f4-02ff-4ea4-9c67-a4fc42b8dafe",
   "metadata": {},
   "outputs": [],
   "source": [
    "# Combine into a complete pipeline\n",
    "ridge_pipe = Pipeline(steps=[('preprocessor', preprocessor),\n",
    "                             ('ttr_ridge_model', ttr_ridge_model)])"
   ]
  },
  {
   "cell_type": "code",
   "execution_count": 20,
   "id": "1c6d1a24-5a22-4af4-9bb2-361cb337ca6c",
   "metadata": {},
   "outputs": [
    {
     "data": {
      "text/html": [
       "<style>#sk-container-id-1 {color: black;background-color: white;}#sk-container-id-1 pre{padding: 0;}#sk-container-id-1 div.sk-toggleable {background-color: white;}#sk-container-id-1 label.sk-toggleable__label {cursor: pointer;display: block;width: 100%;margin-bottom: 0;padding: 0.3em;box-sizing: border-box;text-align: center;}#sk-container-id-1 label.sk-toggleable__label-arrow:before {content: \"▸\";float: left;margin-right: 0.25em;color: #696969;}#sk-container-id-1 label.sk-toggleable__label-arrow:hover:before {color: black;}#sk-container-id-1 div.sk-estimator:hover label.sk-toggleable__label-arrow:before {color: black;}#sk-container-id-1 div.sk-toggleable__content {max-height: 0;max-width: 0;overflow: hidden;text-align: left;background-color: #f0f8ff;}#sk-container-id-1 div.sk-toggleable__content pre {margin: 0.2em;color: black;border-radius: 0.25em;background-color: #f0f8ff;}#sk-container-id-1 input.sk-toggleable__control:checked~div.sk-toggleable__content {max-height: 200px;max-width: 100%;overflow: auto;}#sk-container-id-1 input.sk-toggleable__control:checked~label.sk-toggleable__label-arrow:before {content: \"▾\";}#sk-container-id-1 div.sk-estimator input.sk-toggleable__control:checked~label.sk-toggleable__label {background-color: #d4ebff;}#sk-container-id-1 div.sk-label input.sk-toggleable__control:checked~label.sk-toggleable__label {background-color: #d4ebff;}#sk-container-id-1 input.sk-hidden--visually {border: 0;clip: rect(1px 1px 1px 1px);clip: rect(1px, 1px, 1px, 1px);height: 1px;margin: -1px;overflow: hidden;padding: 0;position: absolute;width: 1px;}#sk-container-id-1 div.sk-estimator {font-family: monospace;background-color: #f0f8ff;border: 1px dotted black;border-radius: 0.25em;box-sizing: border-box;margin-bottom: 0.5em;}#sk-container-id-1 div.sk-estimator:hover {background-color: #d4ebff;}#sk-container-id-1 div.sk-parallel-item::after {content: \"\";width: 100%;border-bottom: 1px solid gray;flex-grow: 1;}#sk-container-id-1 div.sk-label:hover label.sk-toggleable__label {background-color: #d4ebff;}#sk-container-id-1 div.sk-serial::before {content: \"\";position: absolute;border-left: 1px solid gray;box-sizing: border-box;top: 0;bottom: 0;left: 50%;z-index: 0;}#sk-container-id-1 div.sk-serial {display: flex;flex-direction: column;align-items: center;background-color: white;padding-right: 0.2em;padding-left: 0.2em;position: relative;}#sk-container-id-1 div.sk-item {position: relative;z-index: 1;}#sk-container-id-1 div.sk-parallel {display: flex;align-items: stretch;justify-content: center;background-color: white;position: relative;}#sk-container-id-1 div.sk-item::before, #sk-container-id-1 div.sk-parallel-item::before {content: \"\";position: absolute;border-left: 1px solid gray;box-sizing: border-box;top: 0;bottom: 0;left: 50%;z-index: -1;}#sk-container-id-1 div.sk-parallel-item {display: flex;flex-direction: column;z-index: 1;position: relative;background-color: white;}#sk-container-id-1 div.sk-parallel-item:first-child::after {align-self: flex-end;width: 50%;}#sk-container-id-1 div.sk-parallel-item:last-child::after {align-self: flex-start;width: 50%;}#sk-container-id-1 div.sk-parallel-item:only-child::after {width: 0;}#sk-container-id-1 div.sk-dashed-wrapped {border: 1px dashed gray;margin: 0 0.4em 0.5em 0.4em;box-sizing: border-box;padding-bottom: 0.4em;background-color: white;}#sk-container-id-1 div.sk-label label {font-family: monospace;font-weight: bold;display: inline-block;line-height: 1.2em;}#sk-container-id-1 div.sk-label-container {text-align: center;}#sk-container-id-1 div.sk-container {/* jupyter's `normalize.less` sets `[hidden] { display: none; }` but bootstrap.min.css set `[hidden] { display: none !important; }` so we also need the `!important` here to be able to override the default hidden behavior on the sphinx rendered scikit-learn.org. See: https://github.com/scikit-learn/scikit-learn/issues/21755 */display: inline-block !important;position: relative;}#sk-container-id-1 div.sk-text-repr-fallback {display: none;}</style><div id=\"sk-container-id-1\" class=\"sk-top-container\"><div class=\"sk-text-repr-fallback\"><pre>Pipeline(steps=[(&#x27;preprocessor&#x27;,\n",
       "                 ColumnTransformer(transformers=[(&#x27;numeric&#x27;,\n",
       "                                                  Pipeline(steps=[(&#x27;poly&#x27;,\n",
       "                                                                   PolynomialFeatures(include_bias=False)),\n",
       "                                                                  (&#x27;scaler&#x27;,\n",
       "                                                                   MinMaxScaler())]),\n",
       "                                                  [&#x27;Gr Liv Area&#x27;,\n",
       "                                                   &#x27;Total Bsmt SF&#x27;,\n",
       "                                                   &#x27;Garage Cars&#x27;, &#x27;Garage Area&#x27;,\n",
       "                                                   &#x27;Year Built&#x27;,\n",
       "                                                   &#x27;Year Remod/Add&#x27;,\n",
       "                                                   &#x27;TotRms AbvGrd&#x27;,\n",
       "                                                   &#x27;Mas Vnr Area&#x27;, &#x27;Fireplaces&#x27;,\n",
       "                                                   &#x27;Lot Frontage&#x27;, &#x27;Lot Area&#x27;,\n",
       "                                                   &#x27;porch_deck_sqft&#x27;,\n",
       "                                                   &#x27;all_baths_count&#x27;])])),\n",
       "                (&#x27;ttr_ridge_model&#x27;,\n",
       "                 TransformedTargetRegressor(func=&lt;ufunc &#x27;log&#x27;&gt;,\n",
       "                                            inverse_func=&lt;ufunc &#x27;exp&#x27;&gt;,\n",
       "                                            regressor=Ridge()))])</pre><b>In a Jupyter environment, please rerun this cell to show the HTML representation or trust the notebook. <br />On GitHub, the HTML representation is unable to render, please try loading this page with nbviewer.org.</b></div><div class=\"sk-container\" hidden><div class=\"sk-item sk-dashed-wrapped\"><div class=\"sk-label-container\"><div class=\"sk-label sk-toggleable\"><input class=\"sk-toggleable__control sk-hidden--visually\" id=\"sk-estimator-id-1\" type=\"checkbox\" ><label for=\"sk-estimator-id-1\" class=\"sk-toggleable__label sk-toggleable__label-arrow\">Pipeline</label><div class=\"sk-toggleable__content\"><pre>Pipeline(steps=[(&#x27;preprocessor&#x27;,\n",
       "                 ColumnTransformer(transformers=[(&#x27;numeric&#x27;,\n",
       "                                                  Pipeline(steps=[(&#x27;poly&#x27;,\n",
       "                                                                   PolynomialFeatures(include_bias=False)),\n",
       "                                                                  (&#x27;scaler&#x27;,\n",
       "                                                                   MinMaxScaler())]),\n",
       "                                                  [&#x27;Gr Liv Area&#x27;,\n",
       "                                                   &#x27;Total Bsmt SF&#x27;,\n",
       "                                                   &#x27;Garage Cars&#x27;, &#x27;Garage Area&#x27;,\n",
       "                                                   &#x27;Year Built&#x27;,\n",
       "                                                   &#x27;Year Remod/Add&#x27;,\n",
       "                                                   &#x27;TotRms AbvGrd&#x27;,\n",
       "                                                   &#x27;Mas Vnr Area&#x27;, &#x27;Fireplaces&#x27;,\n",
       "                                                   &#x27;Lot Frontage&#x27;, &#x27;Lot Area&#x27;,\n",
       "                                                   &#x27;porch_deck_sqft&#x27;,\n",
       "                                                   &#x27;all_baths_count&#x27;])])),\n",
       "                (&#x27;ttr_ridge_model&#x27;,\n",
       "                 TransformedTargetRegressor(func=&lt;ufunc &#x27;log&#x27;&gt;,\n",
       "                                            inverse_func=&lt;ufunc &#x27;exp&#x27;&gt;,\n",
       "                                            regressor=Ridge()))])</pre></div></div></div><div class=\"sk-serial\"><div class=\"sk-item sk-dashed-wrapped\"><div class=\"sk-label-container\"><div class=\"sk-label sk-toggleable\"><input class=\"sk-toggleable__control sk-hidden--visually\" id=\"sk-estimator-id-2\" type=\"checkbox\" ><label for=\"sk-estimator-id-2\" class=\"sk-toggleable__label sk-toggleable__label-arrow\">preprocessor: ColumnTransformer</label><div class=\"sk-toggleable__content\"><pre>ColumnTransformer(transformers=[(&#x27;numeric&#x27;,\n",
       "                                 Pipeline(steps=[(&#x27;poly&#x27;,\n",
       "                                                  PolynomialFeatures(include_bias=False)),\n",
       "                                                 (&#x27;scaler&#x27;, MinMaxScaler())]),\n",
       "                                 [&#x27;Gr Liv Area&#x27;, &#x27;Total Bsmt SF&#x27;, &#x27;Garage Cars&#x27;,\n",
       "                                  &#x27;Garage Area&#x27;, &#x27;Year Built&#x27;, &#x27;Year Remod/Add&#x27;,\n",
       "                                  &#x27;TotRms AbvGrd&#x27;, &#x27;Mas Vnr Area&#x27;, &#x27;Fireplaces&#x27;,\n",
       "                                  &#x27;Lot Frontage&#x27;, &#x27;Lot Area&#x27;, &#x27;porch_deck_sqft&#x27;,\n",
       "                                  &#x27;all_baths_count&#x27;])])</pre></div></div></div><div class=\"sk-parallel\"><div class=\"sk-parallel-item\"><div class=\"sk-item\"><div class=\"sk-label-container\"><div class=\"sk-label sk-toggleable\"><input class=\"sk-toggleable__control sk-hidden--visually\" id=\"sk-estimator-id-3\" type=\"checkbox\" ><label for=\"sk-estimator-id-3\" class=\"sk-toggleable__label sk-toggleable__label-arrow\">numeric</label><div class=\"sk-toggleable__content\"><pre>[&#x27;Gr Liv Area&#x27;, &#x27;Total Bsmt SF&#x27;, &#x27;Garage Cars&#x27;, &#x27;Garage Area&#x27;, &#x27;Year Built&#x27;, &#x27;Year Remod/Add&#x27;, &#x27;TotRms AbvGrd&#x27;, &#x27;Mas Vnr Area&#x27;, &#x27;Fireplaces&#x27;, &#x27;Lot Frontage&#x27;, &#x27;Lot Area&#x27;, &#x27;porch_deck_sqft&#x27;, &#x27;all_baths_count&#x27;]</pre></div></div></div><div class=\"sk-serial\"><div class=\"sk-item\"><div class=\"sk-serial\"><div class=\"sk-item\"><div class=\"sk-estimator sk-toggleable\"><input class=\"sk-toggleable__control sk-hidden--visually\" id=\"sk-estimator-id-4\" type=\"checkbox\" ><label for=\"sk-estimator-id-4\" class=\"sk-toggleable__label sk-toggleable__label-arrow\">PolynomialFeatures</label><div class=\"sk-toggleable__content\"><pre>PolynomialFeatures(include_bias=False)</pre></div></div></div><div class=\"sk-item\"><div class=\"sk-estimator sk-toggleable\"><input class=\"sk-toggleable__control sk-hidden--visually\" id=\"sk-estimator-id-5\" type=\"checkbox\" ><label for=\"sk-estimator-id-5\" class=\"sk-toggleable__label sk-toggleable__label-arrow\">MinMaxScaler</label><div class=\"sk-toggleable__content\"><pre>MinMaxScaler()</pre></div></div></div></div></div></div></div></div></div></div><div class=\"sk-item sk-dashed-wrapped\"><div class=\"sk-label-container\"><div class=\"sk-label sk-toggleable\"><input class=\"sk-toggleable__control sk-hidden--visually\" id=\"sk-estimator-id-6\" type=\"checkbox\" ><label for=\"sk-estimator-id-6\" class=\"sk-toggleable__label sk-toggleable__label-arrow\">ttr_ridge_model: TransformedTargetRegressor</label><div class=\"sk-toggleable__content\"><pre>TransformedTargetRegressor(func=&lt;ufunc &#x27;log&#x27;&gt;, inverse_func=&lt;ufunc &#x27;exp&#x27;&gt;,\n",
       "                           regressor=Ridge())</pre></div></div></div><div class=\"sk-parallel\"><div class=\"sk-parallel-item\"><div class=\"sk-item\"><div class=\"sk-label-container\"><div class=\"sk-label sk-toggleable\"><input class=\"sk-toggleable__control sk-hidden--visually\" id=\"sk-estimator-id-7\" type=\"checkbox\" ><label for=\"sk-estimator-id-7\" class=\"sk-toggleable__label sk-toggleable__label-arrow\">regressor: Ridge</label><div class=\"sk-toggleable__content\"><pre>Ridge()</pre></div></div></div><div class=\"sk-serial\"><div class=\"sk-item\"><div class=\"sk-estimator sk-toggleable\"><input class=\"sk-toggleable__control sk-hidden--visually\" id=\"sk-estimator-id-8\" type=\"checkbox\" ><label for=\"sk-estimator-id-8\" class=\"sk-toggleable__label sk-toggleable__label-arrow\">Ridge</label><div class=\"sk-toggleable__content\"><pre>Ridge()</pre></div></div></div></div></div></div></div></div></div></div></div></div>"
      ],
      "text/plain": [
       "Pipeline(steps=[('preprocessor',\n",
       "                 ColumnTransformer(transformers=[('numeric',\n",
       "                                                  Pipeline(steps=[('poly',\n",
       "                                                                   PolynomialFeatures(include_bias=False)),\n",
       "                                                                  ('scaler',\n",
       "                                                                   MinMaxScaler())]),\n",
       "                                                  ['Gr Liv Area',\n",
       "                                                   'Total Bsmt SF',\n",
       "                                                   'Garage Cars', 'Garage Area',\n",
       "                                                   'Year Built',\n",
       "                                                   'Year Remod/Add',\n",
       "                                                   'TotRms AbvGrd',\n",
       "                                                   'Mas Vnr Area', 'Fireplaces',\n",
       "                                                   'Lot Frontage', 'Lot Area',\n",
       "                                                   'porch_deck_sqft',\n",
       "                                                   'all_baths_count'])])),\n",
       "                ('ttr_ridge_model',\n",
       "                 TransformedTargetRegressor(func=<ufunc 'log'>,\n",
       "                                            inverse_func=<ufunc 'exp'>,\n",
       "                                            regressor=Ridge()))])"
      ]
     },
     "execution_count": 20,
     "metadata": {},
     "output_type": "execute_result"
    }
   ],
   "source": [
    "ridge_pipe"
   ]
  },
  {
   "cell_type": "markdown",
   "id": "6ac79eed-f42a-4fc2-b9b8-b187ea7a6632",
   "metadata": {},
   "source": [
    "### Hyperparameter tuning with GridSearchCV"
   ]
  },
  {
   "cell_type": "code",
   "execution_count": 21,
   "id": "82916642-9dcd-48ba-8428-903b7f8447dc",
   "metadata": {},
   "outputs": [],
   "source": [
    "# Using GridSearchCV for hyperparameter tuning\n",
    "#params for ridge & polynomialfeatures\n",
    "param_grid = {\n",
    "    'ttr_ridge_model__regressor__alpha': [0.1, 1, 10]}\n",
    "\n",
    "gridsearchcv = GridSearchCV(estimator=ridge_pipe,\n",
    "                            param_grid=param_grid,\n",
    "                            cv=5,\n",
    "                            scoring='r2',\n",
    "                            error_score='raise',\n",
    "                            verbose=1)"
   ]
  },
  {
   "cell_type": "code",
   "execution_count": 22,
   "id": "a8fa291f-6de5-400f-9b07-703e314daf5f",
   "metadata": {},
   "outputs": [
    {
     "name": "stdout",
     "output_type": "stream",
     "text": [
      "Fitting 5 folds for each of 3 candidates, totalling 15 fits\n"
     ]
    },
    {
     "data": {
      "text/html": [
       "<style>#sk-container-id-2 {color: black;background-color: white;}#sk-container-id-2 pre{padding: 0;}#sk-container-id-2 div.sk-toggleable {background-color: white;}#sk-container-id-2 label.sk-toggleable__label {cursor: pointer;display: block;width: 100%;margin-bottom: 0;padding: 0.3em;box-sizing: border-box;text-align: center;}#sk-container-id-2 label.sk-toggleable__label-arrow:before {content: \"▸\";float: left;margin-right: 0.25em;color: #696969;}#sk-container-id-2 label.sk-toggleable__label-arrow:hover:before {color: black;}#sk-container-id-2 div.sk-estimator:hover label.sk-toggleable__label-arrow:before {color: black;}#sk-container-id-2 div.sk-toggleable__content {max-height: 0;max-width: 0;overflow: hidden;text-align: left;background-color: #f0f8ff;}#sk-container-id-2 div.sk-toggleable__content pre {margin: 0.2em;color: black;border-radius: 0.25em;background-color: #f0f8ff;}#sk-container-id-2 input.sk-toggleable__control:checked~div.sk-toggleable__content {max-height: 200px;max-width: 100%;overflow: auto;}#sk-container-id-2 input.sk-toggleable__control:checked~label.sk-toggleable__label-arrow:before {content: \"▾\";}#sk-container-id-2 div.sk-estimator input.sk-toggleable__control:checked~label.sk-toggleable__label {background-color: #d4ebff;}#sk-container-id-2 div.sk-label input.sk-toggleable__control:checked~label.sk-toggleable__label {background-color: #d4ebff;}#sk-container-id-2 input.sk-hidden--visually {border: 0;clip: rect(1px 1px 1px 1px);clip: rect(1px, 1px, 1px, 1px);height: 1px;margin: -1px;overflow: hidden;padding: 0;position: absolute;width: 1px;}#sk-container-id-2 div.sk-estimator {font-family: monospace;background-color: #f0f8ff;border: 1px dotted black;border-radius: 0.25em;box-sizing: border-box;margin-bottom: 0.5em;}#sk-container-id-2 div.sk-estimator:hover {background-color: #d4ebff;}#sk-container-id-2 div.sk-parallel-item::after {content: \"\";width: 100%;border-bottom: 1px solid gray;flex-grow: 1;}#sk-container-id-2 div.sk-label:hover label.sk-toggleable__label {background-color: #d4ebff;}#sk-container-id-2 div.sk-serial::before {content: \"\";position: absolute;border-left: 1px solid gray;box-sizing: border-box;top: 0;bottom: 0;left: 50%;z-index: 0;}#sk-container-id-2 div.sk-serial {display: flex;flex-direction: column;align-items: center;background-color: white;padding-right: 0.2em;padding-left: 0.2em;position: relative;}#sk-container-id-2 div.sk-item {position: relative;z-index: 1;}#sk-container-id-2 div.sk-parallel {display: flex;align-items: stretch;justify-content: center;background-color: white;position: relative;}#sk-container-id-2 div.sk-item::before, #sk-container-id-2 div.sk-parallel-item::before {content: \"\";position: absolute;border-left: 1px solid gray;box-sizing: border-box;top: 0;bottom: 0;left: 50%;z-index: -1;}#sk-container-id-2 div.sk-parallel-item {display: flex;flex-direction: column;z-index: 1;position: relative;background-color: white;}#sk-container-id-2 div.sk-parallel-item:first-child::after {align-self: flex-end;width: 50%;}#sk-container-id-2 div.sk-parallel-item:last-child::after {align-self: flex-start;width: 50%;}#sk-container-id-2 div.sk-parallel-item:only-child::after {width: 0;}#sk-container-id-2 div.sk-dashed-wrapped {border: 1px dashed gray;margin: 0 0.4em 0.5em 0.4em;box-sizing: border-box;padding-bottom: 0.4em;background-color: white;}#sk-container-id-2 div.sk-label label {font-family: monospace;font-weight: bold;display: inline-block;line-height: 1.2em;}#sk-container-id-2 div.sk-label-container {text-align: center;}#sk-container-id-2 div.sk-container {/* jupyter's `normalize.less` sets `[hidden] { display: none; }` but bootstrap.min.css set `[hidden] { display: none !important; }` so we also need the `!important` here to be able to override the default hidden behavior on the sphinx rendered scikit-learn.org. See: https://github.com/scikit-learn/scikit-learn/issues/21755 */display: inline-block !important;position: relative;}#sk-container-id-2 div.sk-text-repr-fallback {display: none;}</style><div id=\"sk-container-id-2\" class=\"sk-top-container\"><div class=\"sk-text-repr-fallback\"><pre>GridSearchCV(cv=5, error_score=&#x27;raise&#x27;,\n",
       "             estimator=Pipeline(steps=[(&#x27;preprocessor&#x27;,\n",
       "                                        ColumnTransformer(transformers=[(&#x27;numeric&#x27;,\n",
       "                                                                         Pipeline(steps=[(&#x27;poly&#x27;,\n",
       "                                                                                          PolynomialFeatures(include_bias=False)),\n",
       "                                                                                         (&#x27;scaler&#x27;,\n",
       "                                                                                          MinMaxScaler())]),\n",
       "                                                                         [&#x27;Gr &#x27;\n",
       "                                                                          &#x27;Liv &#x27;\n",
       "                                                                          &#x27;Area&#x27;,\n",
       "                                                                          &#x27;Total &#x27;\n",
       "                                                                          &#x27;Bsmt &#x27;\n",
       "                                                                          &#x27;SF&#x27;,\n",
       "                                                                          &#x27;Garage &#x27;\n",
       "                                                                          &#x27;Cars&#x27;,\n",
       "                                                                          &#x27;Garage &#x27;\n",
       "                                                                          &#x27;Area&#x27;,\n",
       "                                                                          &#x27;Year &#x27;\n",
       "                                                                          &#x27;Built&#x27;,\n",
       "                                                                          &#x27;Year &#x27;\n",
       "                                                                          &#x27;Remod/Add&#x27;,\n",
       "                                                                          &#x27;TotRms &#x27;\n",
       "                                                                          &#x27;AbvGrd&#x27;,\n",
       "                                                                          &#x27;Mas &#x27;\n",
       "                                                                          &#x27;Vnr &#x27;\n",
       "                                                                          &#x27;Area&#x27;,\n",
       "                                                                          &#x27;Fireplaces&#x27;,\n",
       "                                                                          &#x27;Lot &#x27;\n",
       "                                                                          &#x27;Frontage&#x27;,\n",
       "                                                                          &#x27;Lot &#x27;\n",
       "                                                                          &#x27;Area&#x27;,\n",
       "                                                                          &#x27;porch_deck_sqft&#x27;,\n",
       "                                                                          &#x27;all_baths_count&#x27;])])),\n",
       "                                       (&#x27;ttr_ridge_model&#x27;,\n",
       "                                        TransformedTargetRegressor(func=&lt;ufunc &#x27;log&#x27;&gt;,\n",
       "                                                                   inverse_func=&lt;ufunc &#x27;exp&#x27;&gt;,\n",
       "                                                                   regressor=Ridge()))]),\n",
       "             param_grid={&#x27;ttr_ridge_model__regressor__alpha&#x27;: [0.1, 1, 10]},\n",
       "             scoring=&#x27;r2&#x27;, verbose=1)</pre><b>In a Jupyter environment, please rerun this cell to show the HTML representation or trust the notebook. <br />On GitHub, the HTML representation is unable to render, please try loading this page with nbviewer.org.</b></div><div class=\"sk-container\" hidden><div class=\"sk-item sk-dashed-wrapped\"><div class=\"sk-label-container\"><div class=\"sk-label sk-toggleable\"><input class=\"sk-toggleable__control sk-hidden--visually\" id=\"sk-estimator-id-9\" type=\"checkbox\" ><label for=\"sk-estimator-id-9\" class=\"sk-toggleable__label sk-toggleable__label-arrow\">GridSearchCV</label><div class=\"sk-toggleable__content\"><pre>GridSearchCV(cv=5, error_score=&#x27;raise&#x27;,\n",
       "             estimator=Pipeline(steps=[(&#x27;preprocessor&#x27;,\n",
       "                                        ColumnTransformer(transformers=[(&#x27;numeric&#x27;,\n",
       "                                                                         Pipeline(steps=[(&#x27;poly&#x27;,\n",
       "                                                                                          PolynomialFeatures(include_bias=False)),\n",
       "                                                                                         (&#x27;scaler&#x27;,\n",
       "                                                                                          MinMaxScaler())]),\n",
       "                                                                         [&#x27;Gr &#x27;\n",
       "                                                                          &#x27;Liv &#x27;\n",
       "                                                                          &#x27;Area&#x27;,\n",
       "                                                                          &#x27;Total &#x27;\n",
       "                                                                          &#x27;Bsmt &#x27;\n",
       "                                                                          &#x27;SF&#x27;,\n",
       "                                                                          &#x27;Garage &#x27;\n",
       "                                                                          &#x27;Cars&#x27;,\n",
       "                                                                          &#x27;Garage &#x27;\n",
       "                                                                          &#x27;Area&#x27;,\n",
       "                                                                          &#x27;Year &#x27;\n",
       "                                                                          &#x27;Built&#x27;,\n",
       "                                                                          &#x27;Year &#x27;\n",
       "                                                                          &#x27;Remod/Add&#x27;,\n",
       "                                                                          &#x27;TotRms &#x27;\n",
       "                                                                          &#x27;AbvGrd&#x27;,\n",
       "                                                                          &#x27;Mas &#x27;\n",
       "                                                                          &#x27;Vnr &#x27;\n",
       "                                                                          &#x27;Area&#x27;,\n",
       "                                                                          &#x27;Fireplaces&#x27;,\n",
       "                                                                          &#x27;Lot &#x27;\n",
       "                                                                          &#x27;Frontage&#x27;,\n",
       "                                                                          &#x27;Lot &#x27;\n",
       "                                                                          &#x27;Area&#x27;,\n",
       "                                                                          &#x27;porch_deck_sqft&#x27;,\n",
       "                                                                          &#x27;all_baths_count&#x27;])])),\n",
       "                                       (&#x27;ttr_ridge_model&#x27;,\n",
       "                                        TransformedTargetRegressor(func=&lt;ufunc &#x27;log&#x27;&gt;,\n",
       "                                                                   inverse_func=&lt;ufunc &#x27;exp&#x27;&gt;,\n",
       "                                                                   regressor=Ridge()))]),\n",
       "             param_grid={&#x27;ttr_ridge_model__regressor__alpha&#x27;: [0.1, 1, 10]},\n",
       "             scoring=&#x27;r2&#x27;, verbose=1)</pre></div></div></div><div class=\"sk-parallel\"><div class=\"sk-parallel-item\"><div class=\"sk-item\"><div class=\"sk-label-container\"><div class=\"sk-label sk-toggleable\"><input class=\"sk-toggleable__control sk-hidden--visually\" id=\"sk-estimator-id-10\" type=\"checkbox\" ><label for=\"sk-estimator-id-10\" class=\"sk-toggleable__label sk-toggleable__label-arrow\">estimator: Pipeline</label><div class=\"sk-toggleable__content\"><pre>Pipeline(steps=[(&#x27;preprocessor&#x27;,\n",
       "                 ColumnTransformer(transformers=[(&#x27;numeric&#x27;,\n",
       "                                                  Pipeline(steps=[(&#x27;poly&#x27;,\n",
       "                                                                   PolynomialFeatures(include_bias=False)),\n",
       "                                                                  (&#x27;scaler&#x27;,\n",
       "                                                                   MinMaxScaler())]),\n",
       "                                                  [&#x27;Gr Liv Area&#x27;,\n",
       "                                                   &#x27;Total Bsmt SF&#x27;,\n",
       "                                                   &#x27;Garage Cars&#x27;, &#x27;Garage Area&#x27;,\n",
       "                                                   &#x27;Year Built&#x27;,\n",
       "                                                   &#x27;Year Remod/Add&#x27;,\n",
       "                                                   &#x27;TotRms AbvGrd&#x27;,\n",
       "                                                   &#x27;Mas Vnr Area&#x27;, &#x27;Fireplaces&#x27;,\n",
       "                                                   &#x27;Lot Frontage&#x27;, &#x27;Lot Area&#x27;,\n",
       "                                                   &#x27;porch_deck_sqft&#x27;,\n",
       "                                                   &#x27;all_baths_count&#x27;])])),\n",
       "                (&#x27;ttr_ridge_model&#x27;,\n",
       "                 TransformedTargetRegressor(func=&lt;ufunc &#x27;log&#x27;&gt;,\n",
       "                                            inverse_func=&lt;ufunc &#x27;exp&#x27;&gt;,\n",
       "                                            regressor=Ridge()))])</pre></div></div></div><div class=\"sk-serial\"><div class=\"sk-item\"><div class=\"sk-serial\"><div class=\"sk-item sk-dashed-wrapped\"><div class=\"sk-label-container\"><div class=\"sk-label sk-toggleable\"><input class=\"sk-toggleable__control sk-hidden--visually\" id=\"sk-estimator-id-11\" type=\"checkbox\" ><label for=\"sk-estimator-id-11\" class=\"sk-toggleable__label sk-toggleable__label-arrow\">preprocessor: ColumnTransformer</label><div class=\"sk-toggleable__content\"><pre>ColumnTransformer(transformers=[(&#x27;numeric&#x27;,\n",
       "                                 Pipeline(steps=[(&#x27;poly&#x27;,\n",
       "                                                  PolynomialFeatures(include_bias=False)),\n",
       "                                                 (&#x27;scaler&#x27;, MinMaxScaler())]),\n",
       "                                 [&#x27;Gr Liv Area&#x27;, &#x27;Total Bsmt SF&#x27;, &#x27;Garage Cars&#x27;,\n",
       "                                  &#x27;Garage Area&#x27;, &#x27;Year Built&#x27;, &#x27;Year Remod/Add&#x27;,\n",
       "                                  &#x27;TotRms AbvGrd&#x27;, &#x27;Mas Vnr Area&#x27;, &#x27;Fireplaces&#x27;,\n",
       "                                  &#x27;Lot Frontage&#x27;, &#x27;Lot Area&#x27;, &#x27;porch_deck_sqft&#x27;,\n",
       "                                  &#x27;all_baths_count&#x27;])])</pre></div></div></div><div class=\"sk-parallel\"><div class=\"sk-parallel-item\"><div class=\"sk-item\"><div class=\"sk-label-container\"><div class=\"sk-label sk-toggleable\"><input class=\"sk-toggleable__control sk-hidden--visually\" id=\"sk-estimator-id-12\" type=\"checkbox\" ><label for=\"sk-estimator-id-12\" class=\"sk-toggleable__label sk-toggleable__label-arrow\">numeric</label><div class=\"sk-toggleable__content\"><pre>[&#x27;Gr Liv Area&#x27;, &#x27;Total Bsmt SF&#x27;, &#x27;Garage Cars&#x27;, &#x27;Garage Area&#x27;, &#x27;Year Built&#x27;, &#x27;Year Remod/Add&#x27;, &#x27;TotRms AbvGrd&#x27;, &#x27;Mas Vnr Area&#x27;, &#x27;Fireplaces&#x27;, &#x27;Lot Frontage&#x27;, &#x27;Lot Area&#x27;, &#x27;porch_deck_sqft&#x27;, &#x27;all_baths_count&#x27;]</pre></div></div></div><div class=\"sk-serial\"><div class=\"sk-item\"><div class=\"sk-serial\"><div class=\"sk-item\"><div class=\"sk-estimator sk-toggleable\"><input class=\"sk-toggleable__control sk-hidden--visually\" id=\"sk-estimator-id-13\" type=\"checkbox\" ><label for=\"sk-estimator-id-13\" class=\"sk-toggleable__label sk-toggleable__label-arrow\">PolynomialFeatures</label><div class=\"sk-toggleable__content\"><pre>PolynomialFeatures(include_bias=False)</pre></div></div></div><div class=\"sk-item\"><div class=\"sk-estimator sk-toggleable\"><input class=\"sk-toggleable__control sk-hidden--visually\" id=\"sk-estimator-id-14\" type=\"checkbox\" ><label for=\"sk-estimator-id-14\" class=\"sk-toggleable__label sk-toggleable__label-arrow\">MinMaxScaler</label><div class=\"sk-toggleable__content\"><pre>MinMaxScaler()</pre></div></div></div></div></div></div></div></div></div></div><div class=\"sk-item sk-dashed-wrapped\"><div class=\"sk-label-container\"><div class=\"sk-label sk-toggleable\"><input class=\"sk-toggleable__control sk-hidden--visually\" id=\"sk-estimator-id-15\" type=\"checkbox\" ><label for=\"sk-estimator-id-15\" class=\"sk-toggleable__label sk-toggleable__label-arrow\">ttr_ridge_model: TransformedTargetRegressor</label><div class=\"sk-toggleable__content\"><pre>TransformedTargetRegressor(func=&lt;ufunc &#x27;log&#x27;&gt;, inverse_func=&lt;ufunc &#x27;exp&#x27;&gt;,\n",
       "                           regressor=Ridge())</pre></div></div></div><div class=\"sk-parallel\"><div class=\"sk-parallel-item\"><div class=\"sk-item\"><div class=\"sk-label-container\"><div class=\"sk-label sk-toggleable\"><input class=\"sk-toggleable__control sk-hidden--visually\" id=\"sk-estimator-id-16\" type=\"checkbox\" ><label for=\"sk-estimator-id-16\" class=\"sk-toggleable__label sk-toggleable__label-arrow\">regressor: Ridge</label><div class=\"sk-toggleable__content\"><pre>Ridge()</pre></div></div></div><div class=\"sk-serial\"><div class=\"sk-item\"><div class=\"sk-estimator sk-toggleable\"><input class=\"sk-toggleable__control sk-hidden--visually\" id=\"sk-estimator-id-17\" type=\"checkbox\" ><label for=\"sk-estimator-id-17\" class=\"sk-toggleable__label sk-toggleable__label-arrow\">Ridge</label><div class=\"sk-toggleable__content\"><pre>Ridge()</pre></div></div></div></div></div></div></div></div></div></div></div></div></div></div></div></div></div>"
      ],
      "text/plain": [
       "GridSearchCV(cv=5, error_score='raise',\n",
       "             estimator=Pipeline(steps=[('preprocessor',\n",
       "                                        ColumnTransformer(transformers=[('numeric',\n",
       "                                                                         Pipeline(steps=[('poly',\n",
       "                                                                                          PolynomialFeatures(include_bias=False)),\n",
       "                                                                                         ('scaler',\n",
       "                                                                                          MinMaxScaler())]),\n",
       "                                                                         ['Gr '\n",
       "                                                                          'Liv '\n",
       "                                                                          'Area',\n",
       "                                                                          'Total '\n",
       "                                                                          'Bsmt '\n",
       "                                                                          'SF',\n",
       "                                                                          'Garage '\n",
       "                                                                          'Cars',\n",
       "                                                                          'Garage '\n",
       "                                                                          'Area',\n",
       "                                                                          'Year '\n",
       "                                                                          'Built',\n",
       "                                                                          'Year '\n",
       "                                                                          'Remod/Add',\n",
       "                                                                          'TotRms '\n",
       "                                                                          'AbvGrd',\n",
       "                                                                          'Mas '\n",
       "                                                                          'Vnr '\n",
       "                                                                          'Area',\n",
       "                                                                          'Fireplaces',\n",
       "                                                                          'Lot '\n",
       "                                                                          'Frontage',\n",
       "                                                                          'Lot '\n",
       "                                                                          'Area',\n",
       "                                                                          'porch_deck_sqft',\n",
       "                                                                          'all_baths_count'])])),\n",
       "                                       ('ttr_ridge_model',\n",
       "                                        TransformedTargetRegressor(func=<ufunc 'log'>,\n",
       "                                                                   inverse_func=<ufunc 'exp'>,\n",
       "                                                                   regressor=Ridge()))]),\n",
       "             param_grid={'ttr_ridge_model__regressor__alpha': [0.1, 1, 10]},\n",
       "             scoring='r2', verbose=1)"
      ]
     },
     "execution_count": 22,
     "metadata": {},
     "output_type": "execute_result"
    }
   ],
   "source": [
    "#fit gridsearchcv to train set:\n",
    "gridsearchcv.fit(X_train, y_train)"
   ]
  },
  {
   "cell_type": "markdown",
   "id": "9d7ed1f8-5e8f-4c2a-b475-8594379caeec",
   "metadata": {},
   "source": [
    "### check model parameters & evaluate model"
   ]
  },
  {
   "cell_type": "code",
   "execution_count": 23,
   "id": "6ae0c5ce-738d-4720-8b1c-8b82ee4d61e3",
   "metadata": {},
   "outputs": [],
   "source": [
    "# use the grid_model to make predictions using X_test_scaled\n",
    "# note that this is still a subset of train.csv and not the test.csv\n",
    "y_predictions_numerics = gridsearchcv.predict(X_test)\n",
    "# y_predictions"
   ]
  },
  {
   "cell_type": "code",
   "execution_count": 24,
   "id": "57fad3f0-9c5a-440a-ad16-7e38e9c6dcce",
   "metadata": {},
   "outputs": [
    {
     "name": "stdout",
     "output_type": "stream",
     "text": [
      "Best parameters: {'ttr_ridge_model__regressor__alpha': 1}\n",
      "Best R^2 score: 0.8555290013976803\n"
     ]
    }
   ],
   "source": [
    "print(\"Best parameters:\", gridsearchcv.best_params_)\n",
    "print(\"Best R^2 score:\", gridsearchcv.best_score_)"
   ]
  },
  {
   "cell_type": "code",
   "execution_count": 26,
   "id": "167c7f86-c0c0-4c81-aa91-4b99761477d9",
   "metadata": {},
   "outputs": [
    {
     "name": "stdout",
     "output_type": "stream",
     "text": [
      "RMSE: 25061.85504104648\n",
      "Average SalePrice: 181061.9934980494\n"
     ]
    }
   ],
   "source": [
    "# RMSE and average SalePrice\n",
    "print('RMSE:', np.sqrt(mean_squared_error(y_test,y_predictions_numerics)))\n",
    "print('Average SalePrice:', np.mean(train['SalePrice']))"
   ]
  },
  {
   "cell_type": "markdown",
   "id": "fb1cede2-bf6f-4c7e-9387-2905cfe7bbe3",
   "metadata": {},
   "source": [
    "## Regression Model Plot"
   ]
  },
  {
   "cell_type": "code",
   "execution_count": 28,
   "id": "80284bad-cf11-46ef-8ae2-43ea25035b10",
   "metadata": {},
   "outputs": [
    {
     "data": {
      "image/png": "[encoded data removed]",
      "text/plain": [
       "<Figure size 1200x600 with 1 Axes>"
      ]
     },
     "metadata": {},
     "output_type": "display_data"
    }
   ],
   "source": [
    "# Create a histogram of the actual sale prices\n",
    "plt.figure(figsize=(12,6))\n",
    "sns.histplot(y_test, bins=30, kde=False, color='lightblue', label='Actual Sale Prices', stat=\"density\")\n",
    "\n",
    "# Plot the predicted sale prices as a density plot (smooth curve)\n",
    "sns.kdeplot(y_predictions_numerics, color='green', label='Predicted Sale Prices')\n",
    "\n",
    "# Adding labels and legend\n",
    "plt.xlabel('Sale Price')\n",
    "plt.ylabel('Density')\n",
    "plt.title('Actual \"SalePrice\" vs Predicted \"SalePrice\" Based on Numeric Features (RMSE = $26,374 and R-squared = 0.86) ', fontsize = 14)\n",
    "plt.legend()\n",
    "plt.savefig('../images/Actual_salePrice_vs_Prediction_Numeric_Features.png', dpi=300)\n",
    "plt.show()\n"
   ]
  },
  {
   "cell_type": "code",
   "execution_count": null,
   "id": "ae653e8a-1c66-4e06-90d0-2619d4cb5ba6",
   "metadata": {},
   "outputs": [],
   "source": []
  }
 ],
 "metadata": {
  "kernelspec": {
   "display_name": "Python 3 (ipykernel)",
   "language": "python",
   "name": "python3"
  },
  "language_info": {
   "codemirror_mode": {
    "name": "ipython",
    "version": 3
   },
   "file_extension": ".py",
   "mimetype": "text/x-python",
   "name": "python",
   "nbconvert_exporter": "python",
   "pygments_lexer": "ipython3",
   "version": "3.11.7"
  }
 },
 "nbformat": 4,
 "nbformat_minor": 5
}
